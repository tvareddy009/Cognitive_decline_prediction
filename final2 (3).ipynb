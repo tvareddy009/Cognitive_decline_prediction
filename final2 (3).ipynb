{
  "nbformat": 4,
  "nbformat_minor": 0,
  "metadata": {
    "colab": {
      "provenance": []
    },
    "kernelspec": {
      "name": "python3",
      "display_name": "Python 3"
    },
    "language_info": {
      "name": "python"
    }
  },
  "cells": [
    {
      "cell_type": "markdown",
      "source": [
        "**Importing Libraries**"
      ],
      "metadata": {
        "id": "tq-ydXEisurs"
      }
    },
    {
      "cell_type": "code",
      "execution_count": null,
      "metadata": {
        "colab": {
          "base_uri": "https://localhost:8080/"
        },
        "id": "1OTnk7apAJz7",
        "outputId": "fcdfd7ef-0452-44d6-9497-126a659baadc"
      },
      "outputs": [
        {
          "output_type": "stream",
          "name": "stdout",
          "text": [
            "Mounted at /content/drive\n"
          ]
        }
      ],
      "source": [
        "from google.colab import drive\n",
        "drive.mount('/content/drive')"
      ]
    },
    {
      "cell_type": "code",
      "source": [
        " # importing the necessary libs\n",
        "import os\n",
        "import numpy as np\n",
        "import matplotlib.pyplot as plt\n",
        "import cv2\n",
        "from tqdm import tqdm\n",
        "import io\n",
        "import seaborn as sns\n",
        "from sklearn.utils import shuffle\n",
        "from sklearn.model_selection import train_test_split\n",
        "#from tensorflow.keras.utils import to_categorical\n",
        "#from tensorflow.keras.applications import EfficientNetB4\n",
        "#from tensorflow.keras.callbacks import EarlyStopping, ReduceLROnPlateau, TensorBoard, ModelCheckpoint\n",
        "from keras.utils import plot_model\n",
        "from keras.utils import to_categorical\n",
        "from keras.applications import EfficientNetB4\n",
        "import tensorflow as tf\n",
        "from keras.callbacks import EarlyStopping, ReduceLROnPlateau, TensorBoard, ModelCheckpoint\n",
        "from sklearn.metrics import classification_report, confusion_matrix\n",
        "from keras.utils import plot_model\n",
        "import ipywidgets as widgets\n",
        "from PIL import Image\n",
        "from IPython.display import display, clear_output"
      ],
      "metadata": {
        "id": "osqsmW1CArdu"
      },
      "execution_count": null,
      "outputs": []
    },
    {
      "cell_type": "code",
      "source": [
        "class_names = ['Final AD JPEG', 'Final CN JPEG', 'Final MCI JPEG']"
      ],
      "metadata": {
        "id": "27XJ5hJCAxaN"
      },
      "execution_count": null,
      "outputs": []
    },
    {
      "cell_type": "code",
      "source": [
        "image_size = 150"
      ],
      "metadata": {
        "id": "zj4eV3pxAytV"
      },
      "execution_count": null,
      "outputs": []
    },
    {
      "cell_type": "markdown",
      "source": [
        "**Preparing imgaes from dataset**"
      ],
      "metadata": {
        "id": "bRT_u0BVs7X9"
      }
    },
    {
      "cell_type": "code",
      "source": [
        "# Prepare the training images and labels\n",
        "train_images = []\n",
        "train_labels = []\n",
        "for class_name in class_names:\n",
        "\n",
        "    base_path='/content/drive/MyDrive/adni_dataset/project_dataset/adni/Alzheimers-ADNI'\n",
        "    sub_path = 'train'\n",
        "    folder_path = os.path.join(base_path,sub_path,class_name)\n",
        "    for image_file in tqdm(os.listdir(folder_path)):\n",
        "        image = cv2.imread(os.path.join(folder_path, image_file))\n",
        "        image = cv2.resize(image, (image_size, image_size))\n",
        "        train_images.append(image)\n",
        "        train_labels.append(class_name)"
      ],
      "metadata": {
        "colab": {
          "base_uri": "https://localhost:8080/"
        },
        "id": "ugy05_pzBLlO",
        "outputId": "a4a7dda2-17d6-441f-e981-bbbbdf5ecfc9"
      },
      "execution_count": null,
      "outputs": [
        {
          "output_type": "stream",
          "name": "stderr",
          "text": [
            "100%|██████████| 145/145 [00:03<00:00, 41.72it/s]\n",
            "100%|██████████| 503/503 [00:16<00:00, 30.91it/s]\n",
            "100%|██████████| 463/463 [00:12<00:00, 38.21it/s]\n"
          ]
        }
      ]
    },
    {
      "cell_type": "code",
      "source": [
        "test_images = []\n",
        "test_labels = []\n",
        "\n",
        "for class_name in class_names:\n",
        "    base_path='/content/drive/MyDrive/adni_dataset/project_dataset/adni/Alzheimers-ADNI'\n",
        "    sub_path = 'test'\n",
        "    folder_path = os.path.join(base_path,sub_path,class_name)\n",
        "    for image_file in tqdm(os.listdir(folder_path)):\n",
        "        image = cv2.imread(os.path.join(folder_path, image_file))\n",
        "        image = cv2.resize(image, (image_size, image_size))\n",
        "        test_images.append(image)\n",
        "        test_labels.append(class_name)"
      ],
      "metadata": {
        "colab": {
          "base_uri": "https://localhost:8080/"
        },
        "id": "nmvnqpHaDTZ3",
        "outputId": "a36ea03c-5aba-4a5a-e81c-1aedc7660ec1"
      },
      "execution_count": null,
      "outputs": [
        {
          "output_type": "stream",
          "name": "stderr",
          "text": [
            "100%|██████████| 26/26 [00:06<00:00,  4.01it/s]\n",
            "100%|██████████| 87/87 [00:23<00:00,  3.71it/s]\n",
            "100%|██████████| 82/82 [00:21<00:00,  3.86it/s]\n"
          ]
        }
      ]
    },
    {
      "cell_type": "code",
      "source": [
        "# Convert the training images and labels to numpy arrays\n",
        "train_images = np.array(train_images)\n",
        "train_labels = np.array(train_labels)"
      ],
      "metadata": {
        "id": "WEelMuOjD0BE"
      },
      "execution_count": null,
      "outputs": []
    },
    {
      "cell_type": "code",
      "source": [
        "# Randomly shuffle the dataset\n",
        "train_images, train_labels = shuffle(train_images, train_labels, random_state=42)\n",
        "\n",
        "# Split the dataset into training and testing sets\n",
        "train_images, test_images, train_labels, test_labels = train_test_split(\n",
        "    train_images, train_labels, test_size=0.1, random_state=42\n",
        ")"
      ],
      "metadata": {
        "id": "4s7o1gmjD_L1"
      },
      "execution_count": null,
      "outputs": []
    },
    {
      "cell_type": "markdown",
      "source": [
        "**Encoding the labels**"
      ],
      "metadata": {
        "id": "CB4Q9zvrtGHW"
      }
    },
    {
      "cell_type": "code",
      "source": [
        "# Encode the training and test labels\n",
        "train_labels_encoded = []\n",
        "test_labels_encoded = []\n",
        "\n",
        "for label in train_labels:\n",
        "    train_labels_encoded.append(class_names.index(label))\n",
        "\n",
        "train_labels = to_categorical(train_labels_encoded)\n",
        "\n",
        "for label in test_labels:\n",
        "    test_labels_encoded.append(class_names.index(label))\n",
        "\n",
        "test_labels = to_categorical(test_labels_encoded)"
      ],
      "metadata": {
        "id": "9M-nOV5nEKnZ"
      },
      "execution_count": null,
      "outputs": []
    },
    {
      "cell_type": "markdown",
      "source": [
        "**Model Creation**"
      ],
      "metadata": {
        "id": "du_ptjpjtP_e"
      }
    },
    {
      "cell_type": "code",
      "source": [
        "efficientnetB4 = EfficientNetB4(include_top=False, weights='imagenet', input_shape=(image_size, image_size, 3))"
      ],
      "metadata": {
        "colab": {
          "base_uri": "https://localhost:8080/"
        },
        "id": "t-9YNp56EMro",
        "outputId": "749c90d9-8873-4a7d-aef9-1492b21ba389"
      },
      "execution_count": null,
      "outputs": [
        {
          "output_type": "stream",
          "name": "stdout",
          "text": [
            "Downloading data from https://storage.googleapis.com/keras-applications/efficientnetb4_notop.h5\n",
            "71686520/71686520 [==============================] - 1s 0us/step\n"
          ]
        }
      ]
    },
    {
      "cell_type": "code",
      "source": [
        "model = efficientnetB4.output\n",
        "model = tf.keras.layers.GlobalAveragePooling2D()(model)\n",
        "model = tf.keras.layers.Dropout(0.5)(model)\n",
        "model = tf.keras.layers.Dense(len(class_names), activation='softmax')(model)\n",
        "model = tf.keras.models.Model(inputs=efficientnetB4.input, outputs=model)"
      ],
      "metadata": {
        "id": "rXdlbVQOFAgw"
      },
      "execution_count": null,
      "outputs": []
    },
    {
      "cell_type": "code",
      "source": [
        "model.summary()"
      ],
      "metadata": {
        "colab": {
          "base_uri": "https://localhost:8080/"
        },
        "id": "9-IAXlSFFjyH",
        "outputId": "05edea87-f7cc-450c-d5e7-a402bca7b877",
        "collapsed": true
      },
      "execution_count": null,
      "outputs": [
        {
          "output_type": "stream",
          "name": "stdout",
          "text": [
            "Model: \"model\"\n",
            "__________________________________________________________________________________________________\n",
            " Layer (type)                Output Shape                 Param #   Connected to                  \n",
            "==================================================================================================\n",
            " input_1 (InputLayer)        [(None, 150, 150, 3)]        0         []                            \n",
            "                                                                                                  \n",
            " rescaling (Rescaling)       (None, 150, 150, 3)          0         ['input_1[0][0]']             \n",
            "                                                                                                  \n",
            " normalization (Normalizati  (None, 150, 150, 3)          7         ['rescaling[0][0]']           \n",
            " on)                                                                                              \n",
            "                                                                                                  \n",
            " rescaling_1 (Rescaling)     (None, 150, 150, 3)          0         ['normalization[0][0]']       \n",
            "                                                                                                  \n",
            " stem_conv_pad (ZeroPadding  (None, 151, 151, 3)          0         ['rescaling_1[0][0]']         \n",
            " 2D)                                                                                              \n",
            "                                                                                                  \n",
            " stem_conv (Conv2D)          (None, 75, 75, 48)           1296      ['stem_conv_pad[0][0]']       \n",
            "                                                                                                  \n",
            " stem_bn (BatchNormalizatio  (None, 75, 75, 48)           192       ['stem_conv[0][0]']           \n",
            " n)                                                                                               \n",
            "                                                                                                  \n",
            " stem_activation (Activatio  (None, 75, 75, 48)           0         ['stem_bn[0][0]']             \n",
            " n)                                                                                               \n",
            "                                                                                                  \n",
            " block1a_dwconv (DepthwiseC  (None, 75, 75, 48)           432       ['stem_activation[0][0]']     \n",
            " onv2D)                                                                                           \n",
            "                                                                                                  \n",
            " block1a_bn (BatchNormaliza  (None, 75, 75, 48)           192       ['block1a_dwconv[0][0]']      \n",
            " tion)                                                                                            \n",
            "                                                                                                  \n",
            " block1a_activation (Activa  (None, 75, 75, 48)           0         ['block1a_bn[0][0]']          \n",
            " tion)                                                                                            \n",
            "                                                                                                  \n",
            " block1a_se_squeeze (Global  (None, 48)                   0         ['block1a_activation[0][0]']  \n",
            " AveragePooling2D)                                                                                \n",
            "                                                                                                  \n",
            " block1a_se_reshape (Reshap  (None, 1, 1, 48)             0         ['block1a_se_squeeze[0][0]']  \n",
            " e)                                                                                               \n",
            "                                                                                                  \n",
            " block1a_se_reduce (Conv2D)  (None, 1, 1, 12)             588       ['block1a_se_reshape[0][0]']  \n",
            "                                                                                                  \n",
            " block1a_se_expand (Conv2D)  (None, 1, 1, 48)             624       ['block1a_se_reduce[0][0]']   \n",
            "                                                                                                  \n",
            " block1a_se_excite (Multipl  (None, 75, 75, 48)           0         ['block1a_activation[0][0]',  \n",
            " y)                                                                  'block1a_se_expand[0][0]']   \n",
            "                                                                                                  \n",
            " block1a_project_conv (Conv  (None, 75, 75, 24)           1152      ['block1a_se_excite[0][0]']   \n",
            " 2D)                                                                                              \n",
            "                                                                                                  \n",
            " block1a_project_bn (BatchN  (None, 75, 75, 24)           96        ['block1a_project_conv[0][0]']\n",
            " ormalization)                                                                                    \n",
            "                                                                                                  \n",
            " block1b_dwconv (DepthwiseC  (None, 75, 75, 24)           216       ['block1a_project_bn[0][0]']  \n",
            " onv2D)                                                                                           \n",
            "                                                                                                  \n",
            " block1b_bn (BatchNormaliza  (None, 75, 75, 24)           96        ['block1b_dwconv[0][0]']      \n",
            " tion)                                                                                            \n",
            "                                                                                                  \n",
            " block1b_activation (Activa  (None, 75, 75, 24)           0         ['block1b_bn[0][0]']          \n",
            " tion)                                                                                            \n",
            "                                                                                                  \n",
            " block1b_se_squeeze (Global  (None, 24)                   0         ['block1b_activation[0][0]']  \n",
            " AveragePooling2D)                                                                                \n",
            "                                                                                                  \n",
            " block1b_se_reshape (Reshap  (None, 1, 1, 24)             0         ['block1b_se_squeeze[0][0]']  \n",
            " e)                                                                                               \n",
            "                                                                                                  \n",
            " block1b_se_reduce (Conv2D)  (None, 1, 1, 6)              150       ['block1b_se_reshape[0][0]']  \n",
            "                                                                                                  \n",
            " block1b_se_expand (Conv2D)  (None, 1, 1, 24)             168       ['block1b_se_reduce[0][0]']   \n",
            "                                                                                                  \n",
            " block1b_se_excite (Multipl  (None, 75, 75, 24)           0         ['block1b_activation[0][0]',  \n",
            " y)                                                                  'block1b_se_expand[0][0]']   \n",
            "                                                                                                  \n",
            " block1b_project_conv (Conv  (None, 75, 75, 24)           576       ['block1b_se_excite[0][0]']   \n",
            " 2D)                                                                                              \n",
            "                                                                                                  \n",
            " block1b_project_bn (BatchN  (None, 75, 75, 24)           96        ['block1b_project_conv[0][0]']\n",
            " ormalization)                                                                                    \n",
            "                                                                                                  \n",
            " block1b_drop (Dropout)      (None, 75, 75, 24)           0         ['block1b_project_bn[0][0]']  \n",
            "                                                                                                  \n",
            " block1b_add (Add)           (None, 75, 75, 24)           0         ['block1b_drop[0][0]',        \n",
            "                                                                     'block1a_project_bn[0][0]']  \n",
            "                                                                                                  \n",
            " block2a_expand_conv (Conv2  (None, 75, 75, 144)          3456      ['block1b_add[0][0]']         \n",
            " D)                                                                                               \n",
            "                                                                                                  \n",
            " block2a_expand_bn (BatchNo  (None, 75, 75, 144)          576       ['block2a_expand_conv[0][0]'] \n",
            " rmalization)                                                                                     \n",
            "                                                                                                  \n",
            " block2a_expand_activation   (None, 75, 75, 144)          0         ['block2a_expand_bn[0][0]']   \n",
            " (Activation)                                                                                     \n",
            "                                                                                                  \n",
            " block2a_dwconv_pad (ZeroPa  (None, 77, 77, 144)          0         ['block2a_expand_activation[0]\n",
            " dding2D)                                                           [0]']                         \n",
            "                                                                                                  \n",
            " block2a_dwconv (DepthwiseC  (None, 38, 38, 144)          1296      ['block2a_dwconv_pad[0][0]']  \n",
            " onv2D)                                                                                           \n",
            "                                                                                                  \n",
            " block2a_bn (BatchNormaliza  (None, 38, 38, 144)          576       ['block2a_dwconv[0][0]']      \n",
            " tion)                                                                                            \n",
            "                                                                                                  \n",
            " block2a_activation (Activa  (None, 38, 38, 144)          0         ['block2a_bn[0][0]']          \n",
            " tion)                                                                                            \n",
            "                                                                                                  \n",
            " block2a_se_squeeze (Global  (None, 144)                  0         ['block2a_activation[0][0]']  \n",
            " AveragePooling2D)                                                                                \n",
            "                                                                                                  \n",
            " block2a_se_reshape (Reshap  (None, 1, 1, 144)            0         ['block2a_se_squeeze[0][0]']  \n",
            " e)                                                                                               \n",
            "                                                                                                  \n",
            " block2a_se_reduce (Conv2D)  (None, 1, 1, 6)              870       ['block2a_se_reshape[0][0]']  \n",
            "                                                                                                  \n",
            " block2a_se_expand (Conv2D)  (None, 1, 1, 144)            1008      ['block2a_se_reduce[0][0]']   \n",
            "                                                                                                  \n",
            " block2a_se_excite (Multipl  (None, 38, 38, 144)          0         ['block2a_activation[0][0]',  \n",
            " y)                                                                  'block2a_se_expand[0][0]']   \n",
            "                                                                                                  \n",
            " block2a_project_conv (Conv  (None, 38, 38, 32)           4608      ['block2a_se_excite[0][0]']   \n",
            " 2D)                                                                                              \n",
            "                                                                                                  \n",
            " block2a_project_bn (BatchN  (None, 38, 38, 32)           128       ['block2a_project_conv[0][0]']\n",
            " ormalization)                                                                                    \n",
            "                                                                                                  \n",
            " block2b_expand_conv (Conv2  (None, 38, 38, 192)          6144      ['block2a_project_bn[0][0]']  \n",
            " D)                                                                                               \n",
            "                                                                                                  \n",
            " block2b_expand_bn (BatchNo  (None, 38, 38, 192)          768       ['block2b_expand_conv[0][0]'] \n",
            " rmalization)                                                                                     \n",
            "                                                                                                  \n",
            " block2b_expand_activation   (None, 38, 38, 192)          0         ['block2b_expand_bn[0][0]']   \n",
            " (Activation)                                                                                     \n",
            "                                                                                                  \n",
            " block2b_dwconv (DepthwiseC  (None, 38, 38, 192)          1728      ['block2b_expand_activation[0]\n",
            " onv2D)                                                             [0]']                         \n",
            "                                                                                                  \n",
            " block2b_bn (BatchNormaliza  (None, 38, 38, 192)          768       ['block2b_dwconv[0][0]']      \n",
            " tion)                                                                                            \n",
            "                                                                                                  \n",
            " block2b_activation (Activa  (None, 38, 38, 192)          0         ['block2b_bn[0][0]']          \n",
            " tion)                                                                                            \n",
            "                                                                                                  \n",
            " block2b_se_squeeze (Global  (None, 192)                  0         ['block2b_activation[0][0]']  \n",
            " AveragePooling2D)                                                                                \n",
            "                                                                                                  \n",
            " block2b_se_reshape (Reshap  (None, 1, 1, 192)            0         ['block2b_se_squeeze[0][0]']  \n",
            " e)                                                                                               \n",
            "                                                                                                  \n",
            " block2b_se_reduce (Conv2D)  (None, 1, 1, 8)              1544      ['block2b_se_reshape[0][0]']  \n",
            "                                                                                                  \n",
            " block2b_se_expand (Conv2D)  (None, 1, 1, 192)            1728      ['block2b_se_reduce[0][0]']   \n",
            "                                                                                                  \n",
            " block2b_se_excite (Multipl  (None, 38, 38, 192)          0         ['block2b_activation[0][0]',  \n",
            " y)                                                                  'block2b_se_expand[0][0]']   \n",
            "                                                                                                  \n",
            " block2b_project_conv (Conv  (None, 38, 38, 32)           6144      ['block2b_se_excite[0][0]']   \n",
            " 2D)                                                                                              \n",
            "                                                                                                  \n",
            " block2b_project_bn (BatchN  (None, 38, 38, 32)           128       ['block2b_project_conv[0][0]']\n",
            " ormalization)                                                                                    \n",
            "                                                                                                  \n",
            " block2b_drop (Dropout)      (None, 38, 38, 32)           0         ['block2b_project_bn[0][0]']  \n",
            "                                                                                                  \n",
            " block2b_add (Add)           (None, 38, 38, 32)           0         ['block2b_drop[0][0]',        \n",
            "                                                                     'block2a_project_bn[0][0]']  \n",
            "                                                                                                  \n",
            " block2c_expand_conv (Conv2  (None, 38, 38, 192)          6144      ['block2b_add[0][0]']         \n",
            " D)                                                                                               \n",
            "                                                                                                  \n",
            " block2c_expand_bn (BatchNo  (None, 38, 38, 192)          768       ['block2c_expand_conv[0][0]'] \n",
            " rmalization)                                                                                     \n",
            "                                                                                                  \n",
            " block2c_expand_activation   (None, 38, 38, 192)          0         ['block2c_expand_bn[0][0]']   \n",
            " (Activation)                                                                                     \n",
            "                                                                                                  \n",
            " block2c_dwconv (DepthwiseC  (None, 38, 38, 192)          1728      ['block2c_expand_activation[0]\n",
            " onv2D)                                                             [0]']                         \n",
            "                                                                                                  \n",
            " block2c_bn (BatchNormaliza  (None, 38, 38, 192)          768       ['block2c_dwconv[0][0]']      \n",
            " tion)                                                                                            \n",
            "                                                                                                  \n",
            " block2c_activation (Activa  (None, 38, 38, 192)          0         ['block2c_bn[0][0]']          \n",
            " tion)                                                                                            \n",
            "                                                                                                  \n",
            " block2c_se_squeeze (Global  (None, 192)                  0         ['block2c_activation[0][0]']  \n",
            " AveragePooling2D)                                                                                \n",
            "                                                                                                  \n",
            " block2c_se_reshape (Reshap  (None, 1, 1, 192)            0         ['block2c_se_squeeze[0][0]']  \n",
            " e)                                                                                               \n",
            "                                                                                                  \n",
            " block2c_se_reduce (Conv2D)  (None, 1, 1, 8)              1544      ['block2c_se_reshape[0][0]']  \n",
            "                                                                                                  \n",
            " block2c_se_expand (Conv2D)  (None, 1, 1, 192)            1728      ['block2c_se_reduce[0][0]']   \n",
            "                                                                                                  \n",
            " block2c_se_excite (Multipl  (None, 38, 38, 192)          0         ['block2c_activation[0][0]',  \n",
            " y)                                                                  'block2c_se_expand[0][0]']   \n",
            "                                                                                                  \n",
            " block2c_project_conv (Conv  (None, 38, 38, 32)           6144      ['block2c_se_excite[0][0]']   \n",
            " 2D)                                                                                              \n",
            "                                                                                                  \n",
            " block2c_project_bn (BatchN  (None, 38, 38, 32)           128       ['block2c_project_conv[0][0]']\n",
            " ormalization)                                                                                    \n",
            "                                                                                                  \n",
            " block2c_drop (Dropout)      (None, 38, 38, 32)           0         ['block2c_project_bn[0][0]']  \n",
            "                                                                                                  \n",
            " block2c_add (Add)           (None, 38, 38, 32)           0         ['block2c_drop[0][0]',        \n",
            "                                                                     'block2b_add[0][0]']         \n",
            "                                                                                                  \n",
            " block2d_expand_conv (Conv2  (None, 38, 38, 192)          6144      ['block2c_add[0][0]']         \n",
            " D)                                                                                               \n",
            "                                                                                                  \n",
            " block2d_expand_bn (BatchNo  (None, 38, 38, 192)          768       ['block2d_expand_conv[0][0]'] \n",
            " rmalization)                                                                                     \n",
            "                                                                                                  \n",
            " block2d_expand_activation   (None, 38, 38, 192)          0         ['block2d_expand_bn[0][0]']   \n",
            " (Activation)                                                                                     \n",
            "                                                                                                  \n",
            " block2d_dwconv (DepthwiseC  (None, 38, 38, 192)          1728      ['block2d_expand_activation[0]\n",
            " onv2D)                                                             [0]']                         \n",
            "                                                                                                  \n",
            " block2d_bn (BatchNormaliza  (None, 38, 38, 192)          768       ['block2d_dwconv[0][0]']      \n",
            " tion)                                                                                            \n",
            "                                                                                                  \n",
            " block2d_activation (Activa  (None, 38, 38, 192)          0         ['block2d_bn[0][0]']          \n",
            " tion)                                                                                            \n",
            "                                                                                                  \n",
            " block2d_se_squeeze (Global  (None, 192)                  0         ['block2d_activation[0][0]']  \n",
            " AveragePooling2D)                                                                                \n",
            "                                                                                                  \n",
            " block2d_se_reshape (Reshap  (None, 1, 1, 192)            0         ['block2d_se_squeeze[0][0]']  \n",
            " e)                                                                                               \n",
            "                                                                                                  \n",
            " block2d_se_reduce (Conv2D)  (None, 1, 1, 8)              1544      ['block2d_se_reshape[0][0]']  \n",
            "                                                                                                  \n",
            " block2d_se_expand (Conv2D)  (None, 1, 1, 192)            1728      ['block2d_se_reduce[0][0]']   \n",
            "                                                                                                  \n",
            " block2d_se_excite (Multipl  (None, 38, 38, 192)          0         ['block2d_activation[0][0]',  \n",
            " y)                                                                  'block2d_se_expand[0][0]']   \n",
            "                                                                                                  \n",
            " block2d_project_conv (Conv  (None, 38, 38, 32)           6144      ['block2d_se_excite[0][0]']   \n",
            " 2D)                                                                                              \n",
            "                                                                                                  \n",
            " block2d_project_bn (BatchN  (None, 38, 38, 32)           128       ['block2d_project_conv[0][0]']\n",
            " ormalization)                                                                                    \n",
            "                                                                                                  \n",
            " block2d_drop (Dropout)      (None, 38, 38, 32)           0         ['block2d_project_bn[0][0]']  \n",
            "                                                                                                  \n",
            " block2d_add (Add)           (None, 38, 38, 32)           0         ['block2d_drop[0][0]',        \n",
            "                                                                     'block2c_add[0][0]']         \n",
            "                                                                                                  \n",
            " block3a_expand_conv (Conv2  (None, 38, 38, 192)          6144      ['block2d_add[0][0]']         \n",
            " D)                                                                                               \n",
            "                                                                                                  \n",
            " block3a_expand_bn (BatchNo  (None, 38, 38, 192)          768       ['block3a_expand_conv[0][0]'] \n",
            " rmalization)                                                                                     \n",
            "                                                                                                  \n",
            " block3a_expand_activation   (None, 38, 38, 192)          0         ['block3a_expand_bn[0][0]']   \n",
            " (Activation)                                                                                     \n",
            "                                                                                                  \n",
            " block3a_dwconv_pad (ZeroPa  (None, 41, 41, 192)          0         ['block3a_expand_activation[0]\n",
            " dding2D)                                                           [0]']                         \n",
            "                                                                                                  \n",
            " block3a_dwconv (DepthwiseC  (None, 19, 19, 192)          4800      ['block3a_dwconv_pad[0][0]']  \n",
            " onv2D)                                                                                           \n",
            "                                                                                                  \n",
            " block3a_bn (BatchNormaliza  (None, 19, 19, 192)          768       ['block3a_dwconv[0][0]']      \n",
            " tion)                                                                                            \n",
            "                                                                                                  \n",
            " block3a_activation (Activa  (None, 19, 19, 192)          0         ['block3a_bn[0][0]']          \n",
            " tion)                                                                                            \n",
            "                                                                                                  \n",
            " block3a_se_squeeze (Global  (None, 192)                  0         ['block3a_activation[0][0]']  \n",
            " AveragePooling2D)                                                                                \n",
            "                                                                                                  \n",
            " block3a_se_reshape (Reshap  (None, 1, 1, 192)            0         ['block3a_se_squeeze[0][0]']  \n",
            " e)                                                                                               \n",
            "                                                                                                  \n",
            " block3a_se_reduce (Conv2D)  (None, 1, 1, 8)              1544      ['block3a_se_reshape[0][0]']  \n",
            "                                                                                                  \n",
            " block3a_se_expand (Conv2D)  (None, 1, 1, 192)            1728      ['block3a_se_reduce[0][0]']   \n",
            "                                                                                                  \n",
            " block3a_se_excite (Multipl  (None, 19, 19, 192)          0         ['block3a_activation[0][0]',  \n",
            " y)                                                                  'block3a_se_expand[0][0]']   \n",
            "                                                                                                  \n",
            " block3a_project_conv (Conv  (None, 19, 19, 56)           10752     ['block3a_se_excite[0][0]']   \n",
            " 2D)                                                                                              \n",
            "                                                                                                  \n",
            " block3a_project_bn (BatchN  (None, 19, 19, 56)           224       ['block3a_project_conv[0][0]']\n",
            " ormalization)                                                                                    \n",
            "                                                                                                  \n",
            " block3b_expand_conv (Conv2  (None, 19, 19, 336)          18816     ['block3a_project_bn[0][0]']  \n",
            " D)                                                                                               \n",
            "                                                                                                  \n",
            " block3b_expand_bn (BatchNo  (None, 19, 19, 336)          1344      ['block3b_expand_conv[0][0]'] \n",
            " rmalization)                                                                                     \n",
            "                                                                                                  \n",
            " block3b_expand_activation   (None, 19, 19, 336)          0         ['block3b_expand_bn[0][0]']   \n",
            " (Activation)                                                                                     \n",
            "                                                                                                  \n",
            " block3b_dwconv (DepthwiseC  (None, 19, 19, 336)          8400      ['block3b_expand_activation[0]\n",
            " onv2D)                                                             [0]']                         \n",
            "                                                                                                  \n",
            " block3b_bn (BatchNormaliza  (None, 19, 19, 336)          1344      ['block3b_dwconv[0][0]']      \n",
            " tion)                                                                                            \n",
            "                                                                                                  \n",
            " block3b_activation (Activa  (None, 19, 19, 336)          0         ['block3b_bn[0][0]']          \n",
            " tion)                                                                                            \n",
            "                                                                                                  \n",
            " block3b_se_squeeze (Global  (None, 336)                  0         ['block3b_activation[0][0]']  \n",
            " AveragePooling2D)                                                                                \n",
            "                                                                                                  \n",
            " block3b_se_reshape (Reshap  (None, 1, 1, 336)            0         ['block3b_se_squeeze[0][0]']  \n",
            " e)                                                                                               \n",
            "                                                                                                  \n",
            " block3b_se_reduce (Conv2D)  (None, 1, 1, 14)             4718      ['block3b_se_reshape[0][0]']  \n",
            "                                                                                                  \n",
            " block3b_se_expand (Conv2D)  (None, 1, 1, 336)            5040      ['block3b_se_reduce[0][0]']   \n",
            "                                                                                                  \n",
            " block3b_se_excite (Multipl  (None, 19, 19, 336)          0         ['block3b_activation[0][0]',  \n",
            " y)                                                                  'block3b_se_expand[0][0]']   \n",
            "                                                                                                  \n",
            " block3b_project_conv (Conv  (None, 19, 19, 56)           18816     ['block3b_se_excite[0][0]']   \n",
            " 2D)                                                                                              \n",
            "                                                                                                  \n",
            " block3b_project_bn (BatchN  (None, 19, 19, 56)           224       ['block3b_project_conv[0][0]']\n",
            " ormalization)                                                                                    \n",
            "                                                                                                  \n",
            " block3b_drop (Dropout)      (None, 19, 19, 56)           0         ['block3b_project_bn[0][0]']  \n",
            "                                                                                                  \n",
            " block3b_add (Add)           (None, 19, 19, 56)           0         ['block3b_drop[0][0]',        \n",
            "                                                                     'block3a_project_bn[0][0]']  \n",
            "                                                                                                  \n",
            " block3c_expand_conv (Conv2  (None, 19, 19, 336)          18816     ['block3b_add[0][0]']         \n",
            " D)                                                                                               \n",
            "                                                                                                  \n",
            " block3c_expand_bn (BatchNo  (None, 19, 19, 336)          1344      ['block3c_expand_conv[0][0]'] \n",
            " rmalization)                                                                                     \n",
            "                                                                                                  \n",
            " block3c_expand_activation   (None, 19, 19, 336)          0         ['block3c_expand_bn[0][0]']   \n",
            " (Activation)                                                                                     \n",
            "                                                                                                  \n",
            " block3c_dwconv (DepthwiseC  (None, 19, 19, 336)          8400      ['block3c_expand_activation[0]\n",
            " onv2D)                                                             [0]']                         \n",
            "                                                                                                  \n",
            " block3c_bn (BatchNormaliza  (None, 19, 19, 336)          1344      ['block3c_dwconv[0][0]']      \n",
            " tion)                                                                                            \n",
            "                                                                                                  \n",
            " block3c_activation (Activa  (None, 19, 19, 336)          0         ['block3c_bn[0][0]']          \n",
            " tion)                                                                                            \n",
            "                                                                                                  \n",
            " block3c_se_squeeze (Global  (None, 336)                  0         ['block3c_activation[0][0]']  \n",
            " AveragePooling2D)                                                                                \n",
            "                                                                                                  \n",
            " block3c_se_reshape (Reshap  (None, 1, 1, 336)            0         ['block3c_se_squeeze[0][0]']  \n",
            " e)                                                                                               \n",
            "                                                                                                  \n",
            " block3c_se_reduce (Conv2D)  (None, 1, 1, 14)             4718      ['block3c_se_reshape[0][0]']  \n",
            "                                                                                                  \n",
            " block3c_se_expand (Conv2D)  (None, 1, 1, 336)            5040      ['block3c_se_reduce[0][0]']   \n",
            "                                                                                                  \n",
            " block3c_se_excite (Multipl  (None, 19, 19, 336)          0         ['block3c_activation[0][0]',  \n",
            " y)                                                                  'block3c_se_expand[0][0]']   \n",
            "                                                                                                  \n",
            " block3c_project_conv (Conv  (None, 19, 19, 56)           18816     ['block3c_se_excite[0][0]']   \n",
            " 2D)                                                                                              \n",
            "                                                                                                  \n",
            " block3c_project_bn (BatchN  (None, 19, 19, 56)           224       ['block3c_project_conv[0][0]']\n",
            " ormalization)                                                                                    \n",
            "                                                                                                  \n",
            " block3c_drop (Dropout)      (None, 19, 19, 56)           0         ['block3c_project_bn[0][0]']  \n",
            "                                                                                                  \n",
            " block3c_add (Add)           (None, 19, 19, 56)           0         ['block3c_drop[0][0]',        \n",
            "                                                                     'block3b_add[0][0]']         \n",
            "                                                                                                  \n",
            " block3d_expand_conv (Conv2  (None, 19, 19, 336)          18816     ['block3c_add[0][0]']         \n",
            " D)                                                                                               \n",
            "                                                                                                  \n",
            " block3d_expand_bn (BatchNo  (None, 19, 19, 336)          1344      ['block3d_expand_conv[0][0]'] \n",
            " rmalization)                                                                                     \n",
            "                                                                                                  \n",
            " block3d_expand_activation   (None, 19, 19, 336)          0         ['block3d_expand_bn[0][0]']   \n",
            " (Activation)                                                                                     \n",
            "                                                                                                  \n",
            " block3d_dwconv (DepthwiseC  (None, 19, 19, 336)          8400      ['block3d_expand_activation[0]\n",
            " onv2D)                                                             [0]']                         \n",
            "                                                                                                  \n",
            " block3d_bn (BatchNormaliza  (None, 19, 19, 336)          1344      ['block3d_dwconv[0][0]']      \n",
            " tion)                                                                                            \n",
            "                                                                                                  \n",
            " block3d_activation (Activa  (None, 19, 19, 336)          0         ['block3d_bn[0][0]']          \n",
            " tion)                                                                                            \n",
            "                                                                                                  \n",
            " block3d_se_squeeze (Global  (None, 336)                  0         ['block3d_activation[0][0]']  \n",
            " AveragePooling2D)                                                                                \n",
            "                                                                                                  \n",
            " block3d_se_reshape (Reshap  (None, 1, 1, 336)            0         ['block3d_se_squeeze[0][0]']  \n",
            " e)                                                                                               \n",
            "                                                                                                  \n",
            " block3d_se_reduce (Conv2D)  (None, 1, 1, 14)             4718      ['block3d_se_reshape[0][0]']  \n",
            "                                                                                                  \n",
            " block3d_se_expand (Conv2D)  (None, 1, 1, 336)            5040      ['block3d_se_reduce[0][0]']   \n",
            "                                                                                                  \n",
            " block3d_se_excite (Multipl  (None, 19, 19, 336)          0         ['block3d_activation[0][0]',  \n",
            " y)                                                                  'block3d_se_expand[0][0]']   \n",
            "                                                                                                  \n",
            " block3d_project_conv (Conv  (None, 19, 19, 56)           18816     ['block3d_se_excite[0][0]']   \n",
            " 2D)                                                                                              \n",
            "                                                                                                  \n",
            " block3d_project_bn (BatchN  (None, 19, 19, 56)           224       ['block3d_project_conv[0][0]']\n",
            " ormalization)                                                                                    \n",
            "                                                                                                  \n",
            " block3d_drop (Dropout)      (None, 19, 19, 56)           0         ['block3d_project_bn[0][0]']  \n",
            "                                                                                                  \n",
            " block3d_add (Add)           (None, 19, 19, 56)           0         ['block3d_drop[0][0]',        \n",
            "                                                                     'block3c_add[0][0]']         \n",
            "                                                                                                  \n",
            " block4a_expand_conv (Conv2  (None, 19, 19, 336)          18816     ['block3d_add[0][0]']         \n",
            " D)                                                                                               \n",
            "                                                                                                  \n",
            " block4a_expand_bn (BatchNo  (None, 19, 19, 336)          1344      ['block4a_expand_conv[0][0]'] \n",
            " rmalization)                                                                                     \n",
            "                                                                                                  \n",
            " block4a_expand_activation   (None, 19, 19, 336)          0         ['block4a_expand_bn[0][0]']   \n",
            " (Activation)                                                                                     \n",
            "                                                                                                  \n",
            " block4a_dwconv_pad (ZeroPa  (None, 21, 21, 336)          0         ['block4a_expand_activation[0]\n",
            " dding2D)                                                           [0]']                         \n",
            "                                                                                                  \n",
            " block4a_dwconv (DepthwiseC  (None, 10, 10, 336)          3024      ['block4a_dwconv_pad[0][0]']  \n",
            " onv2D)                                                                                           \n",
            "                                                                                                  \n",
            " block4a_bn (BatchNormaliza  (None, 10, 10, 336)          1344      ['block4a_dwconv[0][0]']      \n",
            " tion)                                                                                            \n",
            "                                                                                                  \n",
            " block4a_activation (Activa  (None, 10, 10, 336)          0         ['block4a_bn[0][0]']          \n",
            " tion)                                                                                            \n",
            "                                                                                                  \n",
            " block4a_se_squeeze (Global  (None, 336)                  0         ['block4a_activation[0][0]']  \n",
            " AveragePooling2D)                                                                                \n",
            "                                                                                                  \n",
            " block4a_se_reshape (Reshap  (None, 1, 1, 336)            0         ['block4a_se_squeeze[0][0]']  \n",
            " e)                                                                                               \n",
            "                                                                                                  \n",
            " block4a_se_reduce (Conv2D)  (None, 1, 1, 14)             4718      ['block4a_se_reshape[0][0]']  \n",
            "                                                                                                  \n",
            " block4a_se_expand (Conv2D)  (None, 1, 1, 336)            5040      ['block4a_se_reduce[0][0]']   \n",
            "                                                                                                  \n",
            " block4a_se_excite (Multipl  (None, 10, 10, 336)          0         ['block4a_activation[0][0]',  \n",
            " y)                                                                  'block4a_se_expand[0][0]']   \n",
            "                                                                                                  \n",
            " block4a_project_conv (Conv  (None, 10, 10, 112)          37632     ['block4a_se_excite[0][0]']   \n",
            " 2D)                                                                                              \n",
            "                                                                                                  \n",
            " block4a_project_bn (BatchN  (None, 10, 10, 112)          448       ['block4a_project_conv[0][0]']\n",
            " ormalization)                                                                                    \n",
            "                                                                                                  \n",
            " block4b_expand_conv (Conv2  (None, 10, 10, 672)          75264     ['block4a_project_bn[0][0]']  \n",
            " D)                                                                                               \n",
            "                                                                                                  \n",
            " block4b_expand_bn (BatchNo  (None, 10, 10, 672)          2688      ['block4b_expand_conv[0][0]'] \n",
            " rmalization)                                                                                     \n",
            "                                                                                                  \n",
            " block4b_expand_activation   (None, 10, 10, 672)          0         ['block4b_expand_bn[0][0]']   \n",
            " (Activation)                                                                                     \n",
            "                                                                                                  \n",
            " block4b_dwconv (DepthwiseC  (None, 10, 10, 672)          6048      ['block4b_expand_activation[0]\n",
            " onv2D)                                                             [0]']                         \n",
            "                                                                                                  \n",
            " block4b_bn (BatchNormaliza  (None, 10, 10, 672)          2688      ['block4b_dwconv[0][0]']      \n",
            " tion)                                                                                            \n",
            "                                                                                                  \n",
            " block4b_activation (Activa  (None, 10, 10, 672)          0         ['block4b_bn[0][0]']          \n",
            " tion)                                                                                            \n",
            "                                                                                                  \n",
            " block4b_se_squeeze (Global  (None, 672)                  0         ['block4b_activation[0][0]']  \n",
            " AveragePooling2D)                                                                                \n",
            "                                                                                                  \n",
            " block4b_se_reshape (Reshap  (None, 1, 1, 672)            0         ['block4b_se_squeeze[0][0]']  \n",
            " e)                                                                                               \n",
            "                                                                                                  \n",
            " block4b_se_reduce (Conv2D)  (None, 1, 1, 28)             18844     ['block4b_se_reshape[0][0]']  \n",
            "                                                                                                  \n",
            " block4b_se_expand (Conv2D)  (None, 1, 1, 672)            19488     ['block4b_se_reduce[0][0]']   \n",
            "                                                                                                  \n",
            " block4b_se_excite (Multipl  (None, 10, 10, 672)          0         ['block4b_activation[0][0]',  \n",
            " y)                                                                  'block4b_se_expand[0][0]']   \n",
            "                                                                                                  \n",
            " block4b_project_conv (Conv  (None, 10, 10, 112)          75264     ['block4b_se_excite[0][0]']   \n",
            " 2D)                                                                                              \n",
            "                                                                                                  \n",
            " block4b_project_bn (BatchN  (None, 10, 10, 112)          448       ['block4b_project_conv[0][0]']\n",
            " ormalization)                                                                                    \n",
            "                                                                                                  \n",
            " block4b_drop (Dropout)      (None, 10, 10, 112)          0         ['block4b_project_bn[0][0]']  \n",
            "                                                                                                  \n",
            " block4b_add (Add)           (None, 10, 10, 112)          0         ['block4b_drop[0][0]',        \n",
            "                                                                     'block4a_project_bn[0][0]']  \n",
            "                                                                                                  \n",
            " block4c_expand_conv (Conv2  (None, 10, 10, 672)          75264     ['block4b_add[0][0]']         \n",
            " D)                                                                                               \n",
            "                                                                                                  \n",
            " block4c_expand_bn (BatchNo  (None, 10, 10, 672)          2688      ['block4c_expand_conv[0][0]'] \n",
            " rmalization)                                                                                     \n",
            "                                                                                                  \n",
            " block4c_expand_activation   (None, 10, 10, 672)          0         ['block4c_expand_bn[0][0]']   \n",
            " (Activation)                                                                                     \n",
            "                                                                                                  \n",
            " block4c_dwconv (DepthwiseC  (None, 10, 10, 672)          6048      ['block4c_expand_activation[0]\n",
            " onv2D)                                                             [0]']                         \n",
            "                                                                                                  \n",
            " block4c_bn (BatchNormaliza  (None, 10, 10, 672)          2688      ['block4c_dwconv[0][0]']      \n",
            " tion)                                                                                            \n",
            "                                                                                                  \n",
            " block4c_activation (Activa  (None, 10, 10, 672)          0         ['block4c_bn[0][0]']          \n",
            " tion)                                                                                            \n",
            "                                                                                                  \n",
            " block4c_se_squeeze (Global  (None, 672)                  0         ['block4c_activation[0][0]']  \n",
            " AveragePooling2D)                                                                                \n",
            "                                                                                                  \n",
            " block4c_se_reshape (Reshap  (None, 1, 1, 672)            0         ['block4c_se_squeeze[0][0]']  \n",
            " e)                                                                                               \n",
            "                                                                                                  \n",
            " block4c_se_reduce (Conv2D)  (None, 1, 1, 28)             18844     ['block4c_se_reshape[0][0]']  \n",
            "                                                                                                  \n",
            " block4c_se_expand (Conv2D)  (None, 1, 1, 672)            19488     ['block4c_se_reduce[0][0]']   \n",
            "                                                                                                  \n",
            " block4c_se_excite (Multipl  (None, 10, 10, 672)          0         ['block4c_activation[0][0]',  \n",
            " y)                                                                  'block4c_se_expand[0][0]']   \n",
            "                                                                                                  \n",
            " block4c_project_conv (Conv  (None, 10, 10, 112)          75264     ['block4c_se_excite[0][0]']   \n",
            " 2D)                                                                                              \n",
            "                                                                                                  \n",
            " block4c_project_bn (BatchN  (None, 10, 10, 112)          448       ['block4c_project_conv[0][0]']\n",
            " ormalization)                                                                                    \n",
            "                                                                                                  \n",
            " block4c_drop (Dropout)      (None, 10, 10, 112)          0         ['block4c_project_bn[0][0]']  \n",
            "                                                                                                  \n",
            " block4c_add (Add)           (None, 10, 10, 112)          0         ['block4c_drop[0][0]',        \n",
            "                                                                     'block4b_add[0][0]']         \n",
            "                                                                                                  \n",
            " block4d_expand_conv (Conv2  (None, 10, 10, 672)          75264     ['block4c_add[0][0]']         \n",
            " D)                                                                                               \n",
            "                                                                                                  \n",
            " block4d_expand_bn (BatchNo  (None, 10, 10, 672)          2688      ['block4d_expand_conv[0][0]'] \n",
            " rmalization)                                                                                     \n",
            "                                                                                                  \n",
            " block4d_expand_activation   (None, 10, 10, 672)          0         ['block4d_expand_bn[0][0]']   \n",
            " (Activation)                                                                                     \n",
            "                                                                                                  \n",
            " block4d_dwconv (DepthwiseC  (None, 10, 10, 672)          6048      ['block4d_expand_activation[0]\n",
            " onv2D)                                                             [0]']                         \n",
            "                                                                                                  \n",
            " block4d_bn (BatchNormaliza  (None, 10, 10, 672)          2688      ['block4d_dwconv[0][0]']      \n",
            " tion)                                                                                            \n",
            "                                                                                                  \n",
            " block4d_activation (Activa  (None, 10, 10, 672)          0         ['block4d_bn[0][0]']          \n",
            " tion)                                                                                            \n",
            "                                                                                                  \n",
            " block4d_se_squeeze (Global  (None, 672)                  0         ['block4d_activation[0][0]']  \n",
            " AveragePooling2D)                                                                                \n",
            "                                                                                                  \n",
            " block4d_se_reshape (Reshap  (None, 1, 1, 672)            0         ['block4d_se_squeeze[0][0]']  \n",
            " e)                                                                                               \n",
            "                                                                                                  \n",
            " block4d_se_reduce (Conv2D)  (None, 1, 1, 28)             18844     ['block4d_se_reshape[0][0]']  \n",
            "                                                                                                  \n",
            " block4d_se_expand (Conv2D)  (None, 1, 1, 672)            19488     ['block4d_se_reduce[0][0]']   \n",
            "                                                                                                  \n",
            " block4d_se_excite (Multipl  (None, 10, 10, 672)          0         ['block4d_activation[0][0]',  \n",
            " y)                                                                  'block4d_se_expand[0][0]']   \n",
            "                                                                                                  \n",
            " block4d_project_conv (Conv  (None, 10, 10, 112)          75264     ['block4d_se_excite[0][0]']   \n",
            " 2D)                                                                                              \n",
            "                                                                                                  \n",
            " block4d_project_bn (BatchN  (None, 10, 10, 112)          448       ['block4d_project_conv[0][0]']\n",
            " ormalization)                                                                                    \n",
            "                                                                                                  \n",
            " block4d_drop (Dropout)      (None, 10, 10, 112)          0         ['block4d_project_bn[0][0]']  \n",
            "                                                                                                  \n",
            " block4d_add (Add)           (None, 10, 10, 112)          0         ['block4d_drop[0][0]',        \n",
            "                                                                     'block4c_add[0][0]']         \n",
            "                                                                                                  \n",
            " block4e_expand_conv (Conv2  (None, 10, 10, 672)          75264     ['block4d_add[0][0]']         \n",
            " D)                                                                                               \n",
            "                                                                                                  \n",
            " block4e_expand_bn (BatchNo  (None, 10, 10, 672)          2688      ['block4e_expand_conv[0][0]'] \n",
            " rmalization)                                                                                     \n",
            "                                                                                                  \n",
            " block4e_expand_activation   (None, 10, 10, 672)          0         ['block4e_expand_bn[0][0]']   \n",
            " (Activation)                                                                                     \n",
            "                                                                                                  \n",
            " block4e_dwconv (DepthwiseC  (None, 10, 10, 672)          6048      ['block4e_expand_activation[0]\n",
            " onv2D)                                                             [0]']                         \n",
            "                                                                                                  \n",
            " block4e_bn (BatchNormaliza  (None, 10, 10, 672)          2688      ['block4e_dwconv[0][0]']      \n",
            " tion)                                                                                            \n",
            "                                                                                                  \n",
            " block4e_activation (Activa  (None, 10, 10, 672)          0         ['block4e_bn[0][0]']          \n",
            " tion)                                                                                            \n",
            "                                                                                                  \n",
            " block4e_se_squeeze (Global  (None, 672)                  0         ['block4e_activation[0][0]']  \n",
            " AveragePooling2D)                                                                                \n",
            "                                                                                                  \n",
            " block4e_se_reshape (Reshap  (None, 1, 1, 672)            0         ['block4e_se_squeeze[0][0]']  \n",
            " e)                                                                                               \n",
            "                                                                                                  \n",
            " block4e_se_reduce (Conv2D)  (None, 1, 1, 28)             18844     ['block4e_se_reshape[0][0]']  \n",
            "                                                                                                  \n",
            " block4e_se_expand (Conv2D)  (None, 1, 1, 672)            19488     ['block4e_se_reduce[0][0]']   \n",
            "                                                                                                  \n",
            " block4e_se_excite (Multipl  (None, 10, 10, 672)          0         ['block4e_activation[0][0]',  \n",
            " y)                                                                  'block4e_se_expand[0][0]']   \n",
            "                                                                                                  \n",
            " block4e_project_conv (Conv  (None, 10, 10, 112)          75264     ['block4e_se_excite[0][0]']   \n",
            " 2D)                                                                                              \n",
            "                                                                                                  \n",
            " block4e_project_bn (BatchN  (None, 10, 10, 112)          448       ['block4e_project_conv[0][0]']\n",
            " ormalization)                                                                                    \n",
            "                                                                                                  \n",
            " block4e_drop (Dropout)      (None, 10, 10, 112)          0         ['block4e_project_bn[0][0]']  \n",
            "                                                                                                  \n",
            " block4e_add (Add)           (None, 10, 10, 112)          0         ['block4e_drop[0][0]',        \n",
            "                                                                     'block4d_add[0][0]']         \n",
            "                                                                                                  \n",
            " block4f_expand_conv (Conv2  (None, 10, 10, 672)          75264     ['block4e_add[0][0]']         \n",
            " D)                                                                                               \n",
            "                                                                                                  \n",
            " block4f_expand_bn (BatchNo  (None, 10, 10, 672)          2688      ['block4f_expand_conv[0][0]'] \n",
            " rmalization)                                                                                     \n",
            "                                                                                                  \n",
            " block4f_expand_activation   (None, 10, 10, 672)          0         ['block4f_expand_bn[0][0]']   \n",
            " (Activation)                                                                                     \n",
            "                                                                                                  \n",
            " block4f_dwconv (DepthwiseC  (None, 10, 10, 672)          6048      ['block4f_expand_activation[0]\n",
            " onv2D)                                                             [0]']                         \n",
            "                                                                                                  \n",
            " block4f_bn (BatchNormaliza  (None, 10, 10, 672)          2688      ['block4f_dwconv[0][0]']      \n",
            " tion)                                                                                            \n",
            "                                                                                                  \n",
            " block4f_activation (Activa  (None, 10, 10, 672)          0         ['block4f_bn[0][0]']          \n",
            " tion)                                                                                            \n",
            "                                                                                                  \n",
            " block4f_se_squeeze (Global  (None, 672)                  0         ['block4f_activation[0][0]']  \n",
            " AveragePooling2D)                                                                                \n",
            "                                                                                                  \n",
            " block4f_se_reshape (Reshap  (None, 1, 1, 672)            0         ['block4f_se_squeeze[0][0]']  \n",
            " e)                                                                                               \n",
            "                                                                                                  \n",
            " block4f_se_reduce (Conv2D)  (None, 1, 1, 28)             18844     ['block4f_se_reshape[0][0]']  \n",
            "                                                                                                  \n",
            " block4f_se_expand (Conv2D)  (None, 1, 1, 672)            19488     ['block4f_se_reduce[0][0]']   \n",
            "                                                                                                  \n",
            " block4f_se_excite (Multipl  (None, 10, 10, 672)          0         ['block4f_activation[0][0]',  \n",
            " y)                                                                  'block4f_se_expand[0][0]']   \n",
            "                                                                                                  \n",
            " block4f_project_conv (Conv  (None, 10, 10, 112)          75264     ['block4f_se_excite[0][0]']   \n",
            " 2D)                                                                                              \n",
            "                                                                                                  \n",
            " block4f_project_bn (BatchN  (None, 10, 10, 112)          448       ['block4f_project_conv[0][0]']\n",
            " ormalization)                                                                                    \n",
            "                                                                                                  \n",
            " block4f_drop (Dropout)      (None, 10, 10, 112)          0         ['block4f_project_bn[0][0]']  \n",
            "                                                                                                  \n",
            " block4f_add (Add)           (None, 10, 10, 112)          0         ['block4f_drop[0][0]',        \n",
            "                                                                     'block4e_add[0][0]']         \n",
            "                                                                                                  \n",
            " block5a_expand_conv (Conv2  (None, 10, 10, 672)          75264     ['block4f_add[0][0]']         \n",
            " D)                                                                                               \n",
            "                                                                                                  \n",
            " block5a_expand_bn (BatchNo  (None, 10, 10, 672)          2688      ['block5a_expand_conv[0][0]'] \n",
            " rmalization)                                                                                     \n",
            "                                                                                                  \n",
            " block5a_expand_activation   (None, 10, 10, 672)          0         ['block5a_expand_bn[0][0]']   \n",
            " (Activation)                                                                                     \n",
            "                                                                                                  \n",
            " block5a_dwconv (DepthwiseC  (None, 10, 10, 672)          16800     ['block5a_expand_activation[0]\n",
            " onv2D)                                                             [0]']                         \n",
            "                                                                                                  \n",
            " block5a_bn (BatchNormaliza  (None, 10, 10, 672)          2688      ['block5a_dwconv[0][0]']      \n",
            " tion)                                                                                            \n",
            "                                                                                                  \n",
            " block5a_activation (Activa  (None, 10, 10, 672)          0         ['block5a_bn[0][0]']          \n",
            " tion)                                                                                            \n",
            "                                                                                                  \n",
            " block5a_se_squeeze (Global  (None, 672)                  0         ['block5a_activation[0][0]']  \n",
            " AveragePooling2D)                                                                                \n",
            "                                                                                                  \n",
            " block5a_se_reshape (Reshap  (None, 1, 1, 672)            0         ['block5a_se_squeeze[0][0]']  \n",
            " e)                                                                                               \n",
            "                                                                                                  \n",
            " block5a_se_reduce (Conv2D)  (None, 1, 1, 28)             18844     ['block5a_se_reshape[0][0]']  \n",
            "                                                                                                  \n",
            " block5a_se_expand (Conv2D)  (None, 1, 1, 672)            19488     ['block5a_se_reduce[0][0]']   \n",
            "                                                                                                  \n",
            " block5a_se_excite (Multipl  (None, 10, 10, 672)          0         ['block5a_activation[0][0]',  \n",
            " y)                                                                  'block5a_se_expand[0][0]']   \n",
            "                                                                                                  \n",
            " block5a_project_conv (Conv  (None, 10, 10, 160)          107520    ['block5a_se_excite[0][0]']   \n",
            " 2D)                                                                                              \n",
            "                                                                                                  \n",
            " block5a_project_bn (BatchN  (None, 10, 10, 160)          640       ['block5a_project_conv[0][0]']\n",
            " ormalization)                                                                                    \n",
            "                                                                                                  \n",
            " block5b_expand_conv (Conv2  (None, 10, 10, 960)          153600    ['block5a_project_bn[0][0]']  \n",
            " D)                                                                                               \n",
            "                                                                                                  \n",
            " block5b_expand_bn (BatchNo  (None, 10, 10, 960)          3840      ['block5b_expand_conv[0][0]'] \n",
            " rmalization)                                                                                     \n",
            "                                                                                                  \n",
            " block5b_expand_activation   (None, 10, 10, 960)          0         ['block5b_expand_bn[0][0]']   \n",
            " (Activation)                                                                                     \n",
            "                                                                                                  \n",
            " block5b_dwconv (DepthwiseC  (None, 10, 10, 960)          24000     ['block5b_expand_activation[0]\n",
            " onv2D)                                                             [0]']                         \n",
            "                                                                                                  \n",
            " block5b_bn (BatchNormaliza  (None, 10, 10, 960)          3840      ['block5b_dwconv[0][0]']      \n",
            " tion)                                                                                            \n",
            "                                                                                                  \n",
            " block5b_activation (Activa  (None, 10, 10, 960)          0         ['block5b_bn[0][0]']          \n",
            " tion)                                                                                            \n",
            "                                                                                                  \n",
            " block5b_se_squeeze (Global  (None, 960)                  0         ['block5b_activation[0][0]']  \n",
            " AveragePooling2D)                                                                                \n",
            "                                                                                                  \n",
            " block5b_se_reshape (Reshap  (None, 1, 1, 960)            0         ['block5b_se_squeeze[0][0]']  \n",
            " e)                                                                                               \n",
            "                                                                                                  \n",
            " block5b_se_reduce (Conv2D)  (None, 1, 1, 40)             38440     ['block5b_se_reshape[0][0]']  \n",
            "                                                                                                  \n",
            " block5b_se_expand (Conv2D)  (None, 1, 1, 960)            39360     ['block5b_se_reduce[0][0]']   \n",
            "                                                                                                  \n",
            " block5b_se_excite (Multipl  (None, 10, 10, 960)          0         ['block5b_activation[0][0]',  \n",
            " y)                                                                  'block5b_se_expand[0][0]']   \n",
            "                                                                                                  \n",
            " block5b_project_conv (Conv  (None, 10, 10, 160)          153600    ['block5b_se_excite[0][0]']   \n",
            " 2D)                                                                                              \n",
            "                                                                                                  \n",
            " block5b_project_bn (BatchN  (None, 10, 10, 160)          640       ['block5b_project_conv[0][0]']\n",
            " ormalization)                                                                                    \n",
            "                                                                                                  \n",
            " block5b_drop (Dropout)      (None, 10, 10, 160)          0         ['block5b_project_bn[0][0]']  \n",
            "                                                                                                  \n",
            " block5b_add (Add)           (None, 10, 10, 160)          0         ['block5b_drop[0][0]',        \n",
            "                                                                     'block5a_project_bn[0][0]']  \n",
            "                                                                                                  \n",
            " block5c_expand_conv (Conv2  (None, 10, 10, 960)          153600    ['block5b_add[0][0]']         \n",
            " D)                                                                                               \n",
            "                                                                                                  \n",
            " block5c_expand_bn (BatchNo  (None, 10, 10, 960)          3840      ['block5c_expand_conv[0][0]'] \n",
            " rmalization)                                                                                     \n",
            "                                                                                                  \n",
            " block5c_expand_activation   (None, 10, 10, 960)          0         ['block5c_expand_bn[0][0]']   \n",
            " (Activation)                                                                                     \n",
            "                                                                                                  \n",
            " block5c_dwconv (DepthwiseC  (None, 10, 10, 960)          24000     ['block5c_expand_activation[0]\n",
            " onv2D)                                                             [0]']                         \n",
            "                                                                                                  \n",
            " block5c_bn (BatchNormaliza  (None, 10, 10, 960)          3840      ['block5c_dwconv[0][0]']      \n",
            " tion)                                                                                            \n",
            "                                                                                                  \n",
            " block5c_activation (Activa  (None, 10, 10, 960)          0         ['block5c_bn[0][0]']          \n",
            " tion)                                                                                            \n",
            "                                                                                                  \n",
            " block5c_se_squeeze (Global  (None, 960)                  0         ['block5c_activation[0][0]']  \n",
            " AveragePooling2D)                                                                                \n",
            "                                                                                                  \n",
            " block5c_se_reshape (Reshap  (None, 1, 1, 960)            0         ['block5c_se_squeeze[0][0]']  \n",
            " e)                                                                                               \n",
            "                                                                                                  \n",
            " block5c_se_reduce (Conv2D)  (None, 1, 1, 40)             38440     ['block5c_se_reshape[0][0]']  \n",
            "                                                                                                  \n",
            " block5c_se_expand (Conv2D)  (None, 1, 1, 960)            39360     ['block5c_se_reduce[0][0]']   \n",
            "                                                                                                  \n",
            " block5c_se_excite (Multipl  (None, 10, 10, 960)          0         ['block5c_activation[0][0]',  \n",
            " y)                                                                  'block5c_se_expand[0][0]']   \n",
            "                                                                                                  \n",
            " block5c_project_conv (Conv  (None, 10, 10, 160)          153600    ['block5c_se_excite[0][0]']   \n",
            " 2D)                                                                                              \n",
            "                                                                                                  \n",
            " block5c_project_bn (BatchN  (None, 10, 10, 160)          640       ['block5c_project_conv[0][0]']\n",
            " ormalization)                                                                                    \n",
            "                                                                                                  \n",
            " block5c_drop (Dropout)      (None, 10, 10, 160)          0         ['block5c_project_bn[0][0]']  \n",
            "                                                                                                  \n",
            " block5c_add (Add)           (None, 10, 10, 160)          0         ['block5c_drop[0][0]',        \n",
            "                                                                     'block5b_add[0][0]']         \n",
            "                                                                                                  \n",
            " block5d_expand_conv (Conv2  (None, 10, 10, 960)          153600    ['block5c_add[0][0]']         \n",
            " D)                                                                                               \n",
            "                                                                                                  \n",
            " block5d_expand_bn (BatchNo  (None, 10, 10, 960)          3840      ['block5d_expand_conv[0][0]'] \n",
            " rmalization)                                                                                     \n",
            "                                                                                                  \n",
            " block5d_expand_activation   (None, 10, 10, 960)          0         ['block5d_expand_bn[0][0]']   \n",
            " (Activation)                                                                                     \n",
            "                                                                                                  \n",
            " block5d_dwconv (DepthwiseC  (None, 10, 10, 960)          24000     ['block5d_expand_activation[0]\n",
            " onv2D)                                                             [0]']                         \n",
            "                                                                                                  \n",
            " block5d_bn (BatchNormaliza  (None, 10, 10, 960)          3840      ['block5d_dwconv[0][0]']      \n",
            " tion)                                                                                            \n",
            "                                                                                                  \n",
            " block5d_activation (Activa  (None, 10, 10, 960)          0         ['block5d_bn[0][0]']          \n",
            " tion)                                                                                            \n",
            "                                                                                                  \n",
            " block5d_se_squeeze (Global  (None, 960)                  0         ['block5d_activation[0][0]']  \n",
            " AveragePooling2D)                                                                                \n",
            "                                                                                                  \n",
            " block5d_se_reshape (Reshap  (None, 1, 1, 960)            0         ['block5d_se_squeeze[0][0]']  \n",
            " e)                                                                                               \n",
            "                                                                                                  \n",
            " block5d_se_reduce (Conv2D)  (None, 1, 1, 40)             38440     ['block5d_se_reshape[0][0]']  \n",
            "                                                                                                  \n",
            " block5d_se_expand (Conv2D)  (None, 1, 1, 960)            39360     ['block5d_se_reduce[0][0]']   \n",
            "                                                                                                  \n",
            " block5d_se_excite (Multipl  (None, 10, 10, 960)          0         ['block5d_activation[0][0]',  \n",
            " y)                                                                  'block5d_se_expand[0][0]']   \n",
            "                                                                                                  \n",
            " block5d_project_conv (Conv  (None, 10, 10, 160)          153600    ['block5d_se_excite[0][0]']   \n",
            " 2D)                                                                                              \n",
            "                                                                                                  \n",
            " block5d_project_bn (BatchN  (None, 10, 10, 160)          640       ['block5d_project_conv[0][0]']\n",
            " ormalization)                                                                                    \n",
            "                                                                                                  \n",
            " block5d_drop (Dropout)      (None, 10, 10, 160)          0         ['block5d_project_bn[0][0]']  \n",
            "                                                                                                  \n",
            " block5d_add (Add)           (None, 10, 10, 160)          0         ['block5d_drop[0][0]',        \n",
            "                                                                     'block5c_add[0][0]']         \n",
            "                                                                                                  \n",
            " block5e_expand_conv (Conv2  (None, 10, 10, 960)          153600    ['block5d_add[0][0]']         \n",
            " D)                                                                                               \n",
            "                                                                                                  \n",
            " block5e_expand_bn (BatchNo  (None, 10, 10, 960)          3840      ['block5e_expand_conv[0][0]'] \n",
            " rmalization)                                                                                     \n",
            "                                                                                                  \n",
            " block5e_expand_activation   (None, 10, 10, 960)          0         ['block5e_expand_bn[0][0]']   \n",
            " (Activation)                                                                                     \n",
            "                                                                                                  \n",
            " block5e_dwconv (DepthwiseC  (None, 10, 10, 960)          24000     ['block5e_expand_activation[0]\n",
            " onv2D)                                                             [0]']                         \n",
            "                                                                                                  \n",
            " block5e_bn (BatchNormaliza  (None, 10, 10, 960)          3840      ['block5e_dwconv[0][0]']      \n",
            " tion)                                                                                            \n",
            "                                                                                                  \n",
            " block5e_activation (Activa  (None, 10, 10, 960)          0         ['block5e_bn[0][0]']          \n",
            " tion)                                                                                            \n",
            "                                                                                                  \n",
            " block5e_se_squeeze (Global  (None, 960)                  0         ['block5e_activation[0][0]']  \n",
            " AveragePooling2D)                                                                                \n",
            "                                                                                                  \n",
            " block5e_se_reshape (Reshap  (None, 1, 1, 960)            0         ['block5e_se_squeeze[0][0]']  \n",
            " e)                                                                                               \n",
            "                                                                                                  \n",
            " block5e_se_reduce (Conv2D)  (None, 1, 1, 40)             38440     ['block5e_se_reshape[0][0]']  \n",
            "                                                                                                  \n",
            " block5e_se_expand (Conv2D)  (None, 1, 1, 960)            39360     ['block5e_se_reduce[0][0]']   \n",
            "                                                                                                  \n",
            " block5e_se_excite (Multipl  (None, 10, 10, 960)          0         ['block5e_activation[0][0]',  \n",
            " y)                                                                  'block5e_se_expand[0][0]']   \n",
            "                                                                                                  \n",
            " block5e_project_conv (Conv  (None, 10, 10, 160)          153600    ['block5e_se_excite[0][0]']   \n",
            " 2D)                                                                                              \n",
            "                                                                                                  \n",
            " block5e_project_bn (BatchN  (None, 10, 10, 160)          640       ['block5e_project_conv[0][0]']\n",
            " ormalization)                                                                                    \n",
            "                                                                                                  \n",
            " block5e_drop (Dropout)      (None, 10, 10, 160)          0         ['block5e_project_bn[0][0]']  \n",
            "                                                                                                  \n",
            " block5e_add (Add)           (None, 10, 10, 160)          0         ['block5e_drop[0][0]',        \n",
            "                                                                     'block5d_add[0][0]']         \n",
            "                                                                                                  \n",
            " block5f_expand_conv (Conv2  (None, 10, 10, 960)          153600    ['block5e_add[0][0]']         \n",
            " D)                                                                                               \n",
            "                                                                                                  \n",
            " block5f_expand_bn (BatchNo  (None, 10, 10, 960)          3840      ['block5f_expand_conv[0][0]'] \n",
            " rmalization)                                                                                     \n",
            "                                                                                                  \n",
            " block5f_expand_activation   (None, 10, 10, 960)          0         ['block5f_expand_bn[0][0]']   \n",
            " (Activation)                                                                                     \n",
            "                                                                                                  \n",
            " block5f_dwconv (DepthwiseC  (None, 10, 10, 960)          24000     ['block5f_expand_activation[0]\n",
            " onv2D)                                                             [0]']                         \n",
            "                                                                                                  \n",
            " block5f_bn (BatchNormaliza  (None, 10, 10, 960)          3840      ['block5f_dwconv[0][0]']      \n",
            " tion)                                                                                            \n",
            "                                                                                                  \n",
            " block5f_activation (Activa  (None, 10, 10, 960)          0         ['block5f_bn[0][0]']          \n",
            " tion)                                                                                            \n",
            "                                                                                                  \n",
            " block5f_se_squeeze (Global  (None, 960)                  0         ['block5f_activation[0][0]']  \n",
            " AveragePooling2D)                                                                                \n",
            "                                                                                                  \n",
            " block5f_se_reshape (Reshap  (None, 1, 1, 960)            0         ['block5f_se_squeeze[0][0]']  \n",
            " e)                                                                                               \n",
            "                                                                                                  \n",
            " block5f_se_reduce (Conv2D)  (None, 1, 1, 40)             38440     ['block5f_se_reshape[0][0]']  \n",
            "                                                                                                  \n",
            " block5f_se_expand (Conv2D)  (None, 1, 1, 960)            39360     ['block5f_se_reduce[0][0]']   \n",
            "                                                                                                  \n",
            " block5f_se_excite (Multipl  (None, 10, 10, 960)          0         ['block5f_activation[0][0]',  \n",
            " y)                                                                  'block5f_se_expand[0][0]']   \n",
            "                                                                                                  \n",
            " block5f_project_conv (Conv  (None, 10, 10, 160)          153600    ['block5f_se_excite[0][0]']   \n",
            " 2D)                                                                                              \n",
            "                                                                                                  \n",
            " block5f_project_bn (BatchN  (None, 10, 10, 160)          640       ['block5f_project_conv[0][0]']\n",
            " ormalization)                                                                                    \n",
            "                                                                                                  \n",
            " block5f_drop (Dropout)      (None, 10, 10, 160)          0         ['block5f_project_bn[0][0]']  \n",
            "                                                                                                  \n",
            " block5f_add (Add)           (None, 10, 10, 160)          0         ['block5f_drop[0][0]',        \n",
            "                                                                     'block5e_add[0][0]']         \n",
            "                                                                                                  \n",
            " block6a_expand_conv (Conv2  (None, 10, 10, 960)          153600    ['block5f_add[0][0]']         \n",
            " D)                                                                                               \n",
            "                                                                                                  \n",
            " block6a_expand_bn (BatchNo  (None, 10, 10, 960)          3840      ['block6a_expand_conv[0][0]'] \n",
            " rmalization)                                                                                     \n",
            "                                                                                                  \n",
            " block6a_expand_activation   (None, 10, 10, 960)          0         ['block6a_expand_bn[0][0]']   \n",
            " (Activation)                                                                                     \n",
            "                                                                                                  \n",
            " block6a_dwconv_pad (ZeroPa  (None, 13, 13, 960)          0         ['block6a_expand_activation[0]\n",
            " dding2D)                                                           [0]']                         \n",
            "                                                                                                  \n",
            " block6a_dwconv (DepthwiseC  (None, 5, 5, 960)            24000     ['block6a_dwconv_pad[0][0]']  \n",
            " onv2D)                                                                                           \n",
            "                                                                                                  \n",
            " block6a_bn (BatchNormaliza  (None, 5, 5, 960)            3840      ['block6a_dwconv[0][0]']      \n",
            " tion)                                                                                            \n",
            "                                                                                                  \n",
            " block6a_activation (Activa  (None, 5, 5, 960)            0         ['block6a_bn[0][0]']          \n",
            " tion)                                                                                            \n",
            "                                                                                                  \n",
            " block6a_se_squeeze (Global  (None, 960)                  0         ['block6a_activation[0][0]']  \n",
            " AveragePooling2D)                                                                                \n",
            "                                                                                                  \n",
            " block6a_se_reshape (Reshap  (None, 1, 1, 960)            0         ['block6a_se_squeeze[0][0]']  \n",
            " e)                                                                                               \n",
            "                                                                                                  \n",
            " block6a_se_reduce (Conv2D)  (None, 1, 1, 40)             38440     ['block6a_se_reshape[0][0]']  \n",
            "                                                                                                  \n",
            " block6a_se_expand (Conv2D)  (None, 1, 1, 960)            39360     ['block6a_se_reduce[0][0]']   \n",
            "                                                                                                  \n",
            " block6a_se_excite (Multipl  (None, 5, 5, 960)            0         ['block6a_activation[0][0]',  \n",
            " y)                                                                  'block6a_se_expand[0][0]']   \n",
            "                                                                                                  \n",
            " block6a_project_conv (Conv  (None, 5, 5, 272)            261120    ['block6a_se_excite[0][0]']   \n",
            " 2D)                                                                                              \n",
            "                                                                                                  \n",
            " block6a_project_bn (BatchN  (None, 5, 5, 272)            1088      ['block6a_project_conv[0][0]']\n",
            " ormalization)                                                                                    \n",
            "                                                                                                  \n",
            " block6b_expand_conv (Conv2  (None, 5, 5, 1632)           443904    ['block6a_project_bn[0][0]']  \n",
            " D)                                                                                               \n",
            "                                                                                                  \n",
            " block6b_expand_bn (BatchNo  (None, 5, 5, 1632)           6528      ['block6b_expand_conv[0][0]'] \n",
            " rmalization)                                                                                     \n",
            "                                                                                                  \n",
            " block6b_expand_activation   (None, 5, 5, 1632)           0         ['block6b_expand_bn[0][0]']   \n",
            " (Activation)                                                                                     \n",
            "                                                                                                  \n",
            " block6b_dwconv (DepthwiseC  (None, 5, 5, 1632)           40800     ['block6b_expand_activation[0]\n",
            " onv2D)                                                             [0]']                         \n",
            "                                                                                                  \n",
            " block6b_bn (BatchNormaliza  (None, 5, 5, 1632)           6528      ['block6b_dwconv[0][0]']      \n",
            " tion)                                                                                            \n",
            "                                                                                                  \n",
            " block6b_activation (Activa  (None, 5, 5, 1632)           0         ['block6b_bn[0][0]']          \n",
            " tion)                                                                                            \n",
            "                                                                                                  \n",
            " block6b_se_squeeze (Global  (None, 1632)                 0         ['block6b_activation[0][0]']  \n",
            " AveragePooling2D)                                                                                \n",
            "                                                                                                  \n",
            " block6b_se_reshape (Reshap  (None, 1, 1, 1632)           0         ['block6b_se_squeeze[0][0]']  \n",
            " e)                                                                                               \n",
            "                                                                                                  \n",
            " block6b_se_reduce (Conv2D)  (None, 1, 1, 68)             111044    ['block6b_se_reshape[0][0]']  \n",
            "                                                                                                  \n",
            " block6b_se_expand (Conv2D)  (None, 1, 1, 1632)           112608    ['block6b_se_reduce[0][0]']   \n",
            "                                                                                                  \n",
            " block6b_se_excite (Multipl  (None, 5, 5, 1632)           0         ['block6b_activation[0][0]',  \n",
            " y)                                                                  'block6b_se_expand[0][0]']   \n",
            "                                                                                                  \n",
            " block6b_project_conv (Conv  (None, 5, 5, 272)            443904    ['block6b_se_excite[0][0]']   \n",
            " 2D)                                                                                              \n",
            "                                                                                                  \n",
            " block6b_project_bn (BatchN  (None, 5, 5, 272)            1088      ['block6b_project_conv[0][0]']\n",
            " ormalization)                                                                                    \n",
            "                                                                                                  \n",
            " block6b_drop (Dropout)      (None, 5, 5, 272)            0         ['block6b_project_bn[0][0]']  \n",
            "                                                                                                  \n",
            " block6b_add (Add)           (None, 5, 5, 272)            0         ['block6b_drop[0][0]',        \n",
            "                                                                     'block6a_project_bn[0][0]']  \n",
            "                                                                                                  \n",
            " block6c_expand_conv (Conv2  (None, 5, 5, 1632)           443904    ['block6b_add[0][0]']         \n",
            " D)                                                                                               \n",
            "                                                                                                  \n",
            " block6c_expand_bn (BatchNo  (None, 5, 5, 1632)           6528      ['block6c_expand_conv[0][0]'] \n",
            " rmalization)                                                                                     \n",
            "                                                                                                  \n",
            " block6c_expand_activation   (None, 5, 5, 1632)           0         ['block6c_expand_bn[0][0]']   \n",
            " (Activation)                                                                                     \n",
            "                                                                                                  \n",
            " block6c_dwconv (DepthwiseC  (None, 5, 5, 1632)           40800     ['block6c_expand_activation[0]\n",
            " onv2D)                                                             [0]']                         \n",
            "                                                                                                  \n",
            " block6c_bn (BatchNormaliza  (None, 5, 5, 1632)           6528      ['block6c_dwconv[0][0]']      \n",
            " tion)                                                                                            \n",
            "                                                                                                  \n",
            " block6c_activation (Activa  (None, 5, 5, 1632)           0         ['block6c_bn[0][0]']          \n",
            " tion)                                                                                            \n",
            "                                                                                                  \n",
            " block6c_se_squeeze (Global  (None, 1632)                 0         ['block6c_activation[0][0]']  \n",
            " AveragePooling2D)                                                                                \n",
            "                                                                                                  \n",
            " block6c_se_reshape (Reshap  (None, 1, 1, 1632)           0         ['block6c_se_squeeze[0][0]']  \n",
            " e)                                                                                               \n",
            "                                                                                                  \n",
            " block6c_se_reduce (Conv2D)  (None, 1, 1, 68)             111044    ['block6c_se_reshape[0][0]']  \n",
            "                                                                                                  \n",
            " block6c_se_expand (Conv2D)  (None, 1, 1, 1632)           112608    ['block6c_se_reduce[0][0]']   \n",
            "                                                                                                  \n",
            " block6c_se_excite (Multipl  (None, 5, 5, 1632)           0         ['block6c_activation[0][0]',  \n",
            " y)                                                                  'block6c_se_expand[0][0]']   \n",
            "                                                                                                  \n",
            " block6c_project_conv (Conv  (None, 5, 5, 272)            443904    ['block6c_se_excite[0][0]']   \n",
            " 2D)                                                                                              \n",
            "                                                                                                  \n",
            " block6c_project_bn (BatchN  (None, 5, 5, 272)            1088      ['block6c_project_conv[0][0]']\n",
            " ormalization)                                                                                    \n",
            "                                                                                                  \n",
            " block6c_drop (Dropout)      (None, 5, 5, 272)            0         ['block6c_project_bn[0][0]']  \n",
            "                                                                                                  \n",
            " block6c_add (Add)           (None, 5, 5, 272)            0         ['block6c_drop[0][0]',        \n",
            "                                                                     'block6b_add[0][0]']         \n",
            "                                                                                                  \n",
            " block6d_expand_conv (Conv2  (None, 5, 5, 1632)           443904    ['block6c_add[0][0]']         \n",
            " D)                                                                                               \n",
            "                                                                                                  \n",
            " block6d_expand_bn (BatchNo  (None, 5, 5, 1632)           6528      ['block6d_expand_conv[0][0]'] \n",
            " rmalization)                                                                                     \n",
            "                                                                                                  \n",
            " block6d_expand_activation   (None, 5, 5, 1632)           0         ['block6d_expand_bn[0][0]']   \n",
            " (Activation)                                                                                     \n",
            "                                                                                                  \n",
            " block6d_dwconv (DepthwiseC  (None, 5, 5, 1632)           40800     ['block6d_expand_activation[0]\n",
            " onv2D)                                                             [0]']                         \n",
            "                                                                                                  \n",
            " block6d_bn (BatchNormaliza  (None, 5, 5, 1632)           6528      ['block6d_dwconv[0][0]']      \n",
            " tion)                                                                                            \n",
            "                                                                                                  \n",
            " block6d_activation (Activa  (None, 5, 5, 1632)           0         ['block6d_bn[0][0]']          \n",
            " tion)                                                                                            \n",
            "                                                                                                  \n",
            " block6d_se_squeeze (Global  (None, 1632)                 0         ['block6d_activation[0][0]']  \n",
            " AveragePooling2D)                                                                                \n",
            "                                                                                                  \n",
            " block6d_se_reshape (Reshap  (None, 1, 1, 1632)           0         ['block6d_se_squeeze[0][0]']  \n",
            " e)                                                                                               \n",
            "                                                                                                  \n",
            " block6d_se_reduce (Conv2D)  (None, 1, 1, 68)             111044    ['block6d_se_reshape[0][0]']  \n",
            "                                                                                                  \n",
            " block6d_se_expand (Conv2D)  (None, 1, 1, 1632)           112608    ['block6d_se_reduce[0][0]']   \n",
            "                                                                                                  \n",
            " block6d_se_excite (Multipl  (None, 5, 5, 1632)           0         ['block6d_activation[0][0]',  \n",
            " y)                                                                  'block6d_se_expand[0][0]']   \n",
            "                                                                                                  \n",
            " block6d_project_conv (Conv  (None, 5, 5, 272)            443904    ['block6d_se_excite[0][0]']   \n",
            " 2D)                                                                                              \n",
            "                                                                                                  \n",
            " block6d_project_bn (BatchN  (None, 5, 5, 272)            1088      ['block6d_project_conv[0][0]']\n",
            " ormalization)                                                                                    \n",
            "                                                                                                  \n",
            " block6d_drop (Dropout)      (None, 5, 5, 272)            0         ['block6d_project_bn[0][0]']  \n",
            "                                                                                                  \n",
            " block6d_add (Add)           (None, 5, 5, 272)            0         ['block6d_drop[0][0]',        \n",
            "                                                                     'block6c_add[0][0]']         \n",
            "                                                                                                  \n",
            " block6e_expand_conv (Conv2  (None, 5, 5, 1632)           443904    ['block6d_add[0][0]']         \n",
            " D)                                                                                               \n",
            "                                                                                                  \n",
            " block6e_expand_bn (BatchNo  (None, 5, 5, 1632)           6528      ['block6e_expand_conv[0][0]'] \n",
            " rmalization)                                                                                     \n",
            "                                                                                                  \n",
            " block6e_expand_activation   (None, 5, 5, 1632)           0         ['block6e_expand_bn[0][0]']   \n",
            " (Activation)                                                                                     \n",
            "                                                                                                  \n",
            " block6e_dwconv (DepthwiseC  (None, 5, 5, 1632)           40800     ['block6e_expand_activation[0]\n",
            " onv2D)                                                             [0]']                         \n",
            "                                                                                                  \n",
            " block6e_bn (BatchNormaliza  (None, 5, 5, 1632)           6528      ['block6e_dwconv[0][0]']      \n",
            " tion)                                                                                            \n",
            "                                                                                                  \n",
            " block6e_activation (Activa  (None, 5, 5, 1632)           0         ['block6e_bn[0][0]']          \n",
            " tion)                                                                                            \n",
            "                                                                                                  \n",
            " block6e_se_squeeze (Global  (None, 1632)                 0         ['block6e_activation[0][0]']  \n",
            " AveragePooling2D)                                                                                \n",
            "                                                                                                  \n",
            " block6e_se_reshape (Reshap  (None, 1, 1, 1632)           0         ['block6e_se_squeeze[0][0]']  \n",
            " e)                                                                                               \n",
            "                                                                                                  \n",
            " block6e_se_reduce (Conv2D)  (None, 1, 1, 68)             111044    ['block6e_se_reshape[0][0]']  \n",
            "                                                                                                  \n",
            " block6e_se_expand (Conv2D)  (None, 1, 1, 1632)           112608    ['block6e_se_reduce[0][0]']   \n",
            "                                                                                                  \n",
            " block6e_se_excite (Multipl  (None, 5, 5, 1632)           0         ['block6e_activation[0][0]',  \n",
            " y)                                                                  'block6e_se_expand[0][0]']   \n",
            "                                                                                                  \n",
            " block6e_project_conv (Conv  (None, 5, 5, 272)            443904    ['block6e_se_excite[0][0]']   \n",
            " 2D)                                                                                              \n",
            "                                                                                                  \n",
            " block6e_project_bn (BatchN  (None, 5, 5, 272)            1088      ['block6e_project_conv[0][0]']\n",
            " ormalization)                                                                                    \n",
            "                                                                                                  \n",
            " block6e_drop (Dropout)      (None, 5, 5, 272)            0         ['block6e_project_bn[0][0]']  \n",
            "                                                                                                  \n",
            " block6e_add (Add)           (None, 5, 5, 272)            0         ['block6e_drop[0][0]',        \n",
            "                                                                     'block6d_add[0][0]']         \n",
            "                                                                                                  \n",
            " block6f_expand_conv (Conv2  (None, 5, 5, 1632)           443904    ['block6e_add[0][0]']         \n",
            " D)                                                                                               \n",
            "                                                                                                  \n",
            " block6f_expand_bn (BatchNo  (None, 5, 5, 1632)           6528      ['block6f_expand_conv[0][0]'] \n",
            " rmalization)                                                                                     \n",
            "                                                                                                  \n",
            " block6f_expand_activation   (None, 5, 5, 1632)           0         ['block6f_expand_bn[0][0]']   \n",
            " (Activation)                                                                                     \n",
            "                                                                                                  \n",
            " block6f_dwconv (DepthwiseC  (None, 5, 5, 1632)           40800     ['block6f_expand_activation[0]\n",
            " onv2D)                                                             [0]']                         \n",
            "                                                                                                  \n",
            " block6f_bn (BatchNormaliza  (None, 5, 5, 1632)           6528      ['block6f_dwconv[0][0]']      \n",
            " tion)                                                                                            \n",
            "                                                                                                  \n",
            " block6f_activation (Activa  (None, 5, 5, 1632)           0         ['block6f_bn[0][0]']          \n",
            " tion)                                                                                            \n",
            "                                                                                                  \n",
            " block6f_se_squeeze (Global  (None, 1632)                 0         ['block6f_activation[0][0]']  \n",
            " AveragePooling2D)                                                                                \n",
            "                                                                                                  \n",
            " block6f_se_reshape (Reshap  (None, 1, 1, 1632)           0         ['block6f_se_squeeze[0][0]']  \n",
            " e)                                                                                               \n",
            "                                                                                                  \n",
            " block6f_se_reduce (Conv2D)  (None, 1, 1, 68)             111044    ['block6f_se_reshape[0][0]']  \n",
            "                                                                                                  \n",
            " block6f_se_expand (Conv2D)  (None, 1, 1, 1632)           112608    ['block6f_se_reduce[0][0]']   \n",
            "                                                                                                  \n",
            " block6f_se_excite (Multipl  (None, 5, 5, 1632)           0         ['block6f_activation[0][0]',  \n",
            " y)                                                                  'block6f_se_expand[0][0]']   \n",
            "                                                                                                  \n",
            " block6f_project_conv (Conv  (None, 5, 5, 272)            443904    ['block6f_se_excite[0][0]']   \n",
            " 2D)                                                                                              \n",
            "                                                                                                  \n",
            " block6f_project_bn (BatchN  (None, 5, 5, 272)            1088      ['block6f_project_conv[0][0]']\n",
            " ormalization)                                                                                    \n",
            "                                                                                                  \n",
            " block6f_drop (Dropout)      (None, 5, 5, 272)            0         ['block6f_project_bn[0][0]']  \n",
            "                                                                                                  \n",
            " block6f_add (Add)           (None, 5, 5, 272)            0         ['block6f_drop[0][0]',        \n",
            "                                                                     'block6e_add[0][0]']         \n",
            "                                                                                                  \n",
            " block6g_expand_conv (Conv2  (None, 5, 5, 1632)           443904    ['block6f_add[0][0]']         \n",
            " D)                                                                                               \n",
            "                                                                                                  \n",
            " block6g_expand_bn (BatchNo  (None, 5, 5, 1632)           6528      ['block6g_expand_conv[0][0]'] \n",
            " rmalization)                                                                                     \n",
            "                                                                                                  \n",
            " block6g_expand_activation   (None, 5, 5, 1632)           0         ['block6g_expand_bn[0][0]']   \n",
            " (Activation)                                                                                     \n",
            "                                                                                                  \n",
            " block6g_dwconv (DepthwiseC  (None, 5, 5, 1632)           40800     ['block6g_expand_activation[0]\n",
            " onv2D)                                                             [0]']                         \n",
            "                                                                                                  \n",
            " block6g_bn (BatchNormaliza  (None, 5, 5, 1632)           6528      ['block6g_dwconv[0][0]']      \n",
            " tion)                                                                                            \n",
            "                                                                                                  \n",
            " block6g_activation (Activa  (None, 5, 5, 1632)           0         ['block6g_bn[0][0]']          \n",
            " tion)                                                                                            \n",
            "                                                                                                  \n",
            " block6g_se_squeeze (Global  (None, 1632)                 0         ['block6g_activation[0][0]']  \n",
            " AveragePooling2D)                                                                                \n",
            "                                                                                                  \n",
            " block6g_se_reshape (Reshap  (None, 1, 1, 1632)           0         ['block6g_se_squeeze[0][0]']  \n",
            " e)                                                                                               \n",
            "                                                                                                  \n",
            " block6g_se_reduce (Conv2D)  (None, 1, 1, 68)             111044    ['block6g_se_reshape[0][0]']  \n",
            "                                                                                                  \n",
            " block6g_se_expand (Conv2D)  (None, 1, 1, 1632)           112608    ['block6g_se_reduce[0][0]']   \n",
            "                                                                                                  \n",
            " block6g_se_excite (Multipl  (None, 5, 5, 1632)           0         ['block6g_activation[0][0]',  \n",
            " y)                                                                  'block6g_se_expand[0][0]']   \n",
            "                                                                                                  \n",
            " block6g_project_conv (Conv  (None, 5, 5, 272)            443904    ['block6g_se_excite[0][0]']   \n",
            " 2D)                                                                                              \n",
            "                                                                                                  \n",
            " block6g_project_bn (BatchN  (None, 5, 5, 272)            1088      ['block6g_project_conv[0][0]']\n",
            " ormalization)                                                                                    \n",
            "                                                                                                  \n",
            " block6g_drop (Dropout)      (None, 5, 5, 272)            0         ['block6g_project_bn[0][0]']  \n",
            "                                                                                                  \n",
            " block6g_add (Add)           (None, 5, 5, 272)            0         ['block6g_drop[0][0]',        \n",
            "                                                                     'block6f_add[0][0]']         \n",
            "                                                                                                  \n",
            " block6h_expand_conv (Conv2  (None, 5, 5, 1632)           443904    ['block6g_add[0][0]']         \n",
            " D)                                                                                               \n",
            "                                                                                                  \n",
            " block6h_expand_bn (BatchNo  (None, 5, 5, 1632)           6528      ['block6h_expand_conv[0][0]'] \n",
            " rmalization)                                                                                     \n",
            "                                                                                                  \n",
            " block6h_expand_activation   (None, 5, 5, 1632)           0         ['block6h_expand_bn[0][0]']   \n",
            " (Activation)                                                                                     \n",
            "                                                                                                  \n",
            " block6h_dwconv (DepthwiseC  (None, 5, 5, 1632)           40800     ['block6h_expand_activation[0]\n",
            " onv2D)                                                             [0]']                         \n",
            "                                                                                                  \n",
            " block6h_bn (BatchNormaliza  (None, 5, 5, 1632)           6528      ['block6h_dwconv[0][0]']      \n",
            " tion)                                                                                            \n",
            "                                                                                                  \n",
            " block6h_activation (Activa  (None, 5, 5, 1632)           0         ['block6h_bn[0][0]']          \n",
            " tion)                                                                                            \n",
            "                                                                                                  \n",
            " block6h_se_squeeze (Global  (None, 1632)                 0         ['block6h_activation[0][0]']  \n",
            " AveragePooling2D)                                                                                \n",
            "                                                                                                  \n",
            " block6h_se_reshape (Reshap  (None, 1, 1, 1632)           0         ['block6h_se_squeeze[0][0]']  \n",
            " e)                                                                                               \n",
            "                                                                                                  \n",
            " block6h_se_reduce (Conv2D)  (None, 1, 1, 68)             111044    ['block6h_se_reshape[0][0]']  \n",
            "                                                                                                  \n",
            " block6h_se_expand (Conv2D)  (None, 1, 1, 1632)           112608    ['block6h_se_reduce[0][0]']   \n",
            "                                                                                                  \n",
            " block6h_se_excite (Multipl  (None, 5, 5, 1632)           0         ['block6h_activation[0][0]',  \n",
            " y)                                                                  'block6h_se_expand[0][0]']   \n",
            "                                                                                                  \n",
            " block6h_project_conv (Conv  (None, 5, 5, 272)            443904    ['block6h_se_excite[0][0]']   \n",
            " 2D)                                                                                              \n",
            "                                                                                                  \n",
            " block6h_project_bn (BatchN  (None, 5, 5, 272)            1088      ['block6h_project_conv[0][0]']\n",
            " ormalization)                                                                                    \n",
            "                                                                                                  \n",
            " block6h_drop (Dropout)      (None, 5, 5, 272)            0         ['block6h_project_bn[0][0]']  \n",
            "                                                                                                  \n",
            " block6h_add (Add)           (None, 5, 5, 272)            0         ['block6h_drop[0][0]',        \n",
            "                                                                     'block6g_add[0][0]']         \n",
            "                                                                                                  \n",
            " block7a_expand_conv (Conv2  (None, 5, 5, 1632)           443904    ['block6h_add[0][0]']         \n",
            " D)                                                                                               \n",
            "                                                                                                  \n",
            " block7a_expand_bn (BatchNo  (None, 5, 5, 1632)           6528      ['block7a_expand_conv[0][0]'] \n",
            " rmalization)                                                                                     \n",
            "                                                                                                  \n",
            " block7a_expand_activation   (None, 5, 5, 1632)           0         ['block7a_expand_bn[0][0]']   \n",
            " (Activation)                                                                                     \n",
            "                                                                                                  \n",
            " block7a_dwconv (DepthwiseC  (None, 5, 5, 1632)           14688     ['block7a_expand_activation[0]\n",
            " onv2D)                                                             [0]']                         \n",
            "                                                                                                  \n",
            " block7a_bn (BatchNormaliza  (None, 5, 5, 1632)           6528      ['block7a_dwconv[0][0]']      \n",
            " tion)                                                                                            \n",
            "                                                                                                  \n",
            " block7a_activation (Activa  (None, 5, 5, 1632)           0         ['block7a_bn[0][0]']          \n",
            " tion)                                                                                            \n",
            "                                                                                                  \n",
            " block7a_se_squeeze (Global  (None, 1632)                 0         ['block7a_activation[0][0]']  \n",
            " AveragePooling2D)                                                                                \n",
            "                                                                                                  \n",
            " block7a_se_reshape (Reshap  (None, 1, 1, 1632)           0         ['block7a_se_squeeze[0][0]']  \n",
            " e)                                                                                               \n",
            "                                                                                                  \n",
            " block7a_se_reduce (Conv2D)  (None, 1, 1, 68)             111044    ['block7a_se_reshape[0][0]']  \n",
            "                                                                                                  \n",
            " block7a_se_expand (Conv2D)  (None, 1, 1, 1632)           112608    ['block7a_se_reduce[0][0]']   \n",
            "                                                                                                  \n",
            " block7a_se_excite (Multipl  (None, 5, 5, 1632)           0         ['block7a_activation[0][0]',  \n",
            " y)                                                                  'block7a_se_expand[0][0]']   \n",
            "                                                                                                  \n",
            " block7a_project_conv (Conv  (None, 5, 5, 448)            731136    ['block7a_se_excite[0][0]']   \n",
            " 2D)                                                                                              \n",
            "                                                                                                  \n",
            " block7a_project_bn (BatchN  (None, 5, 5, 448)            1792      ['block7a_project_conv[0][0]']\n",
            " ormalization)                                                                                    \n",
            "                                                                                                  \n",
            " block7b_expand_conv (Conv2  (None, 5, 5, 2688)           1204224   ['block7a_project_bn[0][0]']  \n",
            " D)                                                                                               \n",
            "                                                                                                  \n",
            " block7b_expand_bn (BatchNo  (None, 5, 5, 2688)           10752     ['block7b_expand_conv[0][0]'] \n",
            " rmalization)                                                                                     \n",
            "                                                                                                  \n",
            " block7b_expand_activation   (None, 5, 5, 2688)           0         ['block7b_expand_bn[0][0]']   \n",
            " (Activation)                                                                                     \n",
            "                                                                                                  \n",
            " block7b_dwconv (DepthwiseC  (None, 5, 5, 2688)           24192     ['block7b_expand_activation[0]\n",
            " onv2D)                                                             [0]']                         \n",
            "                                                                                                  \n",
            " block7b_bn (BatchNormaliza  (None, 5, 5, 2688)           10752     ['block7b_dwconv[0][0]']      \n",
            " tion)                                                                                            \n",
            "                                                                                                  \n",
            " block7b_activation (Activa  (None, 5, 5, 2688)           0         ['block7b_bn[0][0]']          \n",
            " tion)                                                                                            \n",
            "                                                                                                  \n",
            " block7b_se_squeeze (Global  (None, 2688)                 0         ['block7b_activation[0][0]']  \n",
            " AveragePooling2D)                                                                                \n",
            "                                                                                                  \n",
            " block7b_se_reshape (Reshap  (None, 1, 1, 2688)           0         ['block7b_se_squeeze[0][0]']  \n",
            " e)                                                                                               \n",
            "                                                                                                  \n",
            " block7b_se_reduce (Conv2D)  (None, 1, 1, 112)            301168    ['block7b_se_reshape[0][0]']  \n",
            "                                                                                                  \n",
            " block7b_se_expand (Conv2D)  (None, 1, 1, 2688)           303744    ['block7b_se_reduce[0][0]']   \n",
            "                                                                                                  \n",
            " block7b_se_excite (Multipl  (None, 5, 5, 2688)           0         ['block7b_activation[0][0]',  \n",
            " y)                                                                  'block7b_se_expand[0][0]']   \n",
            "                                                                                                  \n",
            " block7b_project_conv (Conv  (None, 5, 5, 448)            1204224   ['block7b_se_excite[0][0]']   \n",
            " 2D)                                                                                              \n",
            "                                                                                                  \n",
            " block7b_project_bn (BatchN  (None, 5, 5, 448)            1792      ['block7b_project_conv[0][0]']\n",
            " ormalization)                                                                                    \n",
            "                                                                                                  \n",
            " block7b_drop (Dropout)      (None, 5, 5, 448)            0         ['block7b_project_bn[0][0]']  \n",
            "                                                                                                  \n",
            " block7b_add (Add)           (None, 5, 5, 448)            0         ['block7b_drop[0][0]',        \n",
            "                                                                     'block7a_project_bn[0][0]']  \n",
            "                                                                                                  \n",
            " top_conv (Conv2D)           (None, 5, 5, 1792)           802816    ['block7b_add[0][0]']         \n",
            "                                                                                                  \n",
            " top_bn (BatchNormalization  (None, 5, 5, 1792)           7168      ['top_conv[0][0]']            \n",
            " )                                                                                                \n",
            "                                                                                                  \n",
            " top_activation (Activation  (None, 5, 5, 1792)           0         ['top_bn[0][0]']              \n",
            " )                                                                                                \n",
            "                                                                                                  \n",
            " global_average_pooling2d (  (None, 1792)                 0         ['top_activation[0][0]']      \n",
            " GlobalAveragePooling2D)                                                                          \n",
            "                                                                                                  \n",
            " dropout (Dropout)           (None, 1792)                 0         ['global_average_pooling2d[0][\n",
            "                                                                    0]']                          \n",
            "                                                                                                  \n",
            " dense_2 (Dense)             (None, 3)                    5379      ['dropout[0][0]']             \n",
            "                                                                                                  \n",
            "==================================================================================================\n",
            "Total params: 17679202 (67.44 MB)\n",
            "Trainable params: 17553995 (66.96 MB)\n",
            "Non-trainable params: 125207 (489.09 KB)\n",
            "__________________________________________________________________________________________________\n"
          ]
        }
      ]
    },
    {
      "cell_type": "code",
      "source": [
        "model.compile(optimizer='adam',\n",
        "              loss='categorical_crossentropy',\n",
        "              metrics=['accuracy'])"
      ],
      "metadata": {
        "id": "4UARqOEjFqfg"
      },
      "execution_count": null,
      "outputs": []
    },
    {
      "cell_type": "markdown",
      "source": [
        "**Creating checkpoint**"
      ],
      "metadata": {
        "id": "Bt1uJF00tXWG"
      }
    },
    {
      "cell_type": "code",
      "source": [
        "tensorBoard = TensorBoard(log_dir=\"logs\")\n",
        "model_save_path = 'efficientNetB4.h5'\n",
        "checkPoint = ModelCheckpoint(model_save_path,\n",
        "                             monitor='val_acc',\n",
        "                             verbose=1,\n",
        "                             save_best_only=True,\n",
        "                             mode='auto')\n",
        "\n",
        "reduce_lr = ReduceLROnPlateau(monitor='val_acc',\n",
        "                             factor=0.3,\n",
        "                             patience=2,\n",
        "                             verbose=1,\n",
        "                             mode='auto',\n",
        "                             min_delta=0.001)"
      ],
      "metadata": {
        "id": "5GeMoVJJF1kL"
      },
      "execution_count": null,
      "outputs": []
    },
    {
      "cell_type": "markdown",
      "source": [
        "**Fitting train images and running the model for 50 iterations**"
      ],
      "metadata": {
        "id": "fMRFG6BotdCv"
      }
    },
    {
      "cell_type": "code",
      "source": [
        "history = model.fit(train_images,\n",
        "                    train_labels,\n",
        "                    batch_size=32,\n",
        "                    validation_split=0.1,\n",
        "                    epochs=50,\n",
        "                    verbose=1,\n",
        "                    callbacks=[tensorBoard, checkPoint, reduce_lr])"
      ],
      "metadata": {
        "colab": {
          "base_uri": "https://localhost:8080/"
        },
        "id": "Mpbh-CzsGNrY",
        "outputId": "9228ae33-cc5d-4660-e01d-ea57cde09b36",
        "collapsed": true
      },
      "execution_count": null,
      "outputs": [
        {
          "metadata": {
            "tags": null
          },
          "name": "stdout",
          "output_type": "stream",
          "text": [
            "Epoch 1/50\n",
            "29/29 [==============================] - ETA: 0s - loss: 1.0256 - accuracy: 0.5039 "
          ]
        },
        {
          "metadata": {
            "tags": null
          },
          "name": "stderr",
          "output_type": "stream",
          "text": [
            "WARNING:tensorflow:Can save best model only with val_acc available, skipping.\n",
            "WARNING:tensorflow:Learning rate reduction is conditioned on metric `val_acc` which is not available. Available metrics are: loss,accuracy,val_loss,val_accuracy,lr\n"
          ]
        },
        {
          "metadata": {
            "tags": null
          },
          "name": "stdout",
          "output_type": "stream",
          "text": [
            "29/29 [==============================] - 367s 13s/step - loss: 1.0256 - accuracy: 0.5039 - val_loss: 0.9867 - val_accuracy: 0.5000 - lr: 0.0010\n",
            "Epoch 2/50\n",
            "29/29 [==============================] - ETA: 0s - loss: 0.8918 - accuracy: 0.5862 "
          ]
        },
        {
          "metadata": {
            "tags": null
          },
          "name": "stderr",
          "output_type": "stream",
          "text": [
            "WARNING:tensorflow:Can save best model only with val_acc available, skipping.\n",
            "WARNING:tensorflow:Learning rate reduction is conditioned on metric `val_acc` which is not available. Available metrics are: loss,accuracy,val_loss,val_accuracy,lr\n"
          ]
        },
        {
          "metadata": {
            "tags": null
          },
          "name": "stdout",
          "output_type": "stream",
          "text": [
            "29/29 [==============================] - 360s 12s/step - loss: 0.8918 - accuracy: 0.5862 - val_loss: 0.9675 - val_accuracy: 0.5400 - lr: 0.0010\n",
            "Epoch 3/50\n",
            "29/29 [==============================] - ETA: 0s - loss: 0.7286 - accuracy: 0.6696 "
          ]
        },
        {
          "metadata": {
            "tags": null
          },
          "name": "stderr",
          "output_type": "stream",
          "text": [
            "WARNING:tensorflow:Can save best model only with val_acc available, skipping.\n",
            "WARNING:tensorflow:Learning rate reduction is conditioned on metric `val_acc` which is not available. Available metrics are: loss,accuracy,val_loss,val_accuracy,lr\n"
          ]
        },
        {
          "metadata": {
            "tags": null
          },
          "name": "stdout",
          "output_type": "stream",
          "text": [
            "29/29 [==============================] - 367s 13s/step - loss: 0.7286 - accuracy: 0.6696 - val_loss: 2.1159 - val_accuracy: 0.4700 - lr: 0.0010\n",
            "Epoch 4/50\n",
            "29/29 [==============================] - ETA: 0s - loss: 0.5204 - accuracy: 0.8076 "
          ]
        },
        {
          "metadata": {
            "tags": null
          },
          "name": "stderr",
          "output_type": "stream",
          "text": [
            "WARNING:tensorflow:Can save best model only with val_acc available, skipping.\n",
            "WARNING:tensorflow:Learning rate reduction is conditioned on metric `val_acc` which is not available. Available metrics are: loss,accuracy,val_loss,val_accuracy,lr\n"
          ]
        },
        {
          "metadata": {
            "tags": null
          },
          "name": "stdout",
          "output_type": "stream",
          "text": [
            "29/29 [==============================] - 373s 13s/step - loss: 0.5204 - accuracy: 0.8076 - val_loss: 1.5414 - val_accuracy: 0.5500 - lr: 0.0010\n",
            "Epoch 5/50\n",
            "29/29 [==============================] - ETA: 0s - loss: 0.5300 - accuracy: 0.7853 "
          ]
        },
        {
          "metadata": {
            "tags": null
          },
          "name": "stderr",
          "output_type": "stream",
          "text": [
            "WARNING:tensorflow:Can save best model only with val_acc available, skipping.\n",
            "WARNING:tensorflow:Learning rate reduction is conditioned on metric `val_acc` which is not available. Available metrics are: loss,accuracy,val_loss,val_accuracy,lr\n"
          ]
        },
        {
          "metadata": {
            "tags": null
          },
          "name": "stdout",
          "output_type": "stream",
          "text": [
            "29/29 [==============================] - 374s 13s/step - loss: 0.5300 - accuracy: 0.7853 - val_loss: 1.9475 - val_accuracy: 0.5400 - lr: 0.0010\n",
            "Epoch 6/50\n",
            "29/29 [==============================] - ETA: 0s - loss: 0.3457 - accuracy: 0.8743 "
          ]
        },
        {
          "metadata": {
            "tags": null
          },
          "name": "stderr",
          "output_type": "stream",
          "text": [
            "WARNING:tensorflow:Can save best model only with val_acc available, skipping.\n",
            "WARNING:tensorflow:Learning rate reduction is conditioned on metric `val_acc` which is not available. Available metrics are: loss,accuracy,val_loss,val_accuracy,lr\n"
          ]
        },
        {
          "metadata": {
            "tags": null
          },
          "name": "stdout",
          "output_type": "stream",
          "text": [
            "29/29 [==============================] - 365s 13s/step - loss: 0.3457 - accuracy: 0.8743 - val_loss: 3.9556 - val_accuracy: 0.5100 - lr: 0.0010\n",
            "Epoch 7/50\n",
            "29/29 [==============================] - ETA: 0s - loss: 0.2576 - accuracy: 0.9066 "
          ]
        },
        {
          "metadata": {
            "tags": null
          },
          "name": "stderr",
          "output_type": "stream",
          "text": [
            "WARNING:tensorflow:Can save best model only with val_acc available, skipping.\n",
            "WARNING:tensorflow:Learning rate reduction is conditioned on metric `val_acc` which is not available. Available metrics are: loss,accuracy,val_loss,val_accuracy,lr\n"
          ]
        },
        {
          "metadata": {
            "tags": null
          },
          "name": "stdout",
          "output_type": "stream",
          "text": [
            "29/29 [==============================] - 358s 12s/step - loss: 0.2576 - accuracy: 0.9066 - val_loss: 4.8762 - val_accuracy: 0.5500 - lr: 0.0010\n",
            "Epoch 8/50\n",
            "29/29 [==============================] - ETA: 0s - loss: 0.2337 - accuracy: 0.9077 "
          ]
        },
        {
          "metadata": {
            "tags": null
          },
          "name": "stderr",
          "output_type": "stream",
          "text": [
            "WARNING:tensorflow:Can save best model only with val_acc available, skipping.\n",
            "WARNING:tensorflow:Learning rate reduction is conditioned on metric `val_acc` which is not available. Available metrics are: loss,accuracy,val_loss,val_accuracy,lr\n"
          ]
        },
        {
          "metadata": {
            "tags": null
          },
          "name": "stdout",
          "output_type": "stream",
          "text": [
            "29/29 [==============================] - 362s 12s/step - loss: 0.2337 - accuracy: 0.9077 - val_loss: 1.9170 - val_accuracy: 0.5300 - lr: 0.0010\n",
            "Epoch 9/50\n",
            "29/29 [==============================] - ETA: 0s - loss: 0.1699 - accuracy: 0.9388 "
          ]
        },
        {
          "metadata": {
            "tags": null
          },
          "name": "stderr",
          "output_type": "stream",
          "text": [
            "WARNING:tensorflow:Can save best model only with val_acc available, skipping.\n",
            "WARNING:tensorflow:Learning rate reduction is conditioned on metric `val_acc` which is not available. Available metrics are: loss,accuracy,val_loss,val_accuracy,lr\n"
          ]
        },
        {
          "metadata": {
            "tags": null
          },
          "name": "stdout",
          "output_type": "stream",
          "text": [
            "29/29 [==============================] - 368s 13s/step - loss: 0.1699 - accuracy: 0.9388 - val_loss: 1.8889 - val_accuracy: 0.5300 - lr: 0.0010\n",
            "Epoch 10/50\n",
            "29/29 [==============================] - ETA: 0s - loss: 0.1432 - accuracy: 0.9522 "
          ]
        },
        {
          "metadata": {
            "tags": null
          },
          "name": "stderr",
          "output_type": "stream",
          "text": [
            "WARNING:tensorflow:Can save best model only with val_acc available, skipping.\n",
            "WARNING:tensorflow:Learning rate reduction is conditioned on metric `val_acc` which is not available. Available metrics are: loss,accuracy,val_loss,val_accuracy,lr\n"
          ]
        },
        {
          "metadata": {
            "tags": null
          },
          "name": "stdout",
          "output_type": "stream",
          "text": [
            "29/29 [==============================] - 360s 12s/step - loss: 0.1432 - accuracy: 0.9522 - val_loss: 2.5646 - val_accuracy: 0.5000 - lr: 0.0010\n",
            "Epoch 11/50\n",
            "29/29 [==============================] - ETA: 0s - loss: 0.1960 - accuracy: 0.9310 "
          ]
        },
        {
          "metadata": {
            "tags": null
          },
          "name": "stderr",
          "output_type": "stream",
          "text": [
            "WARNING:tensorflow:Can save best model only with val_acc available, skipping.\n",
            "WARNING:tensorflow:Learning rate reduction is conditioned on metric `val_acc` which is not available. Available metrics are: loss,accuracy,val_loss,val_accuracy,lr\n"
          ]
        },
        {
          "metadata": {
            "tags": null
          },
          "name": "stdout",
          "output_type": "stream",
          "text": [
            "29/29 [==============================] - 359s 12s/step - loss: 0.1960 - accuracy: 0.9310 - val_loss: 1.9926 - val_accuracy: 0.4800 - lr: 0.0010\n",
            "Epoch 12/50\n",
            "29/29 [==============================] - ETA: 0s - loss: 0.1722 - accuracy: 0.9377 "
          ]
        },
        {
          "metadata": {
            "tags": null
          },
          "name": "stderr",
          "output_type": "stream",
          "text": [
            "WARNING:tensorflow:Can save best model only with val_acc available, skipping.\n",
            "WARNING:tensorflow:Learning rate reduction is conditioned on metric `val_acc` which is not available. Available metrics are: loss,accuracy,val_loss,val_accuracy,lr\n"
          ]
        },
        {
          "metadata": {
            "tags": null
          },
          "name": "stdout",
          "output_type": "stream",
          "text": [
            "29/29 [==============================] - 364s 13s/step - loss: 0.1722 - accuracy: 0.9377 - val_loss: 2.1551 - val_accuracy: 0.4700 - lr: 0.0010\n",
            "Epoch 13/50\n",
            "29/29 [==============================] - ETA: 0s - loss: 0.1022 - accuracy: 0.9666 "
          ]
        },
        {
          "metadata": {
            "tags": null
          },
          "name": "stderr",
          "output_type": "stream",
          "text": [
            "WARNING:tensorflow:Can save best model only with val_acc available, skipping.\n",
            "WARNING:tensorflow:Learning rate reduction is conditioned on metric `val_acc` which is not available. Available metrics are: loss,accuracy,val_loss,val_accuracy,lr\n"
          ]
        },
        {
          "metadata": {
            "tags": null
          },
          "name": "stdout",
          "output_type": "stream",
          "text": [
            "29/29 [==============================] - 366s 13s/step - loss: 0.1022 - accuracy: 0.9666 - val_loss: 2.9959 - val_accuracy: 0.4700 - lr: 0.0010\n",
            "Epoch 14/50\n",
            "29/29 [==============================] - ETA: 0s - loss: 0.2629 - accuracy: 0.9110 "
          ]
        },
        {
          "metadata": {
            "tags": null
          },
          "name": "stderr",
          "output_type": "stream",
          "text": [
            "WARNING:tensorflow:Can save best model only with val_acc available, skipping.\n",
            "WARNING:tensorflow:Learning rate reduction is conditioned on metric `val_acc` which is not available. Available metrics are: loss,accuracy,val_loss,val_accuracy,lr\n"
          ]
        },
        {
          "metadata": {
            "tags": null
          },
          "name": "stdout",
          "output_type": "stream",
          "text": [
            "29/29 [==============================] - 362s 12s/step - loss: 0.2629 - accuracy: 0.9110 - val_loss: 1.7947 - val_accuracy: 0.5500 - lr: 0.0010\n",
            "Epoch 15/50\n",
            "29/29 [==============================] - ETA: 0s - loss: 0.1446 - accuracy: 0.9555 "
          ]
        },
        {
          "metadata": {
            "tags": null
          },
          "name": "stderr",
          "output_type": "stream",
          "text": [
            "WARNING:tensorflow:Can save best model only with val_acc available, skipping.\n",
            "WARNING:tensorflow:Learning rate reduction is conditioned on metric `val_acc` which is not available. Available metrics are: loss,accuracy,val_loss,val_accuracy,lr\n"
          ]
        },
        {
          "metadata": {
            "tags": null
          },
          "name": "stdout",
          "output_type": "stream",
          "text": [
            "29/29 [==============================] - 314s 11s/step - loss: 0.1446 - accuracy: 0.9555 - val_loss: 2.8574 - val_accuracy: 0.4500 - lr: 0.0010\n",
            "Epoch 16/50\n",
            "29/29 [==============================] - ETA: 0s - loss: 0.1283 - accuracy: 0.9566 "
          ]
        },
        {
          "metadata": {
            "tags": null
          },
          "name": "stderr",
          "output_type": "stream",
          "text": [
            "WARNING:tensorflow:Can save best model only with val_acc available, skipping.\n",
            "WARNING:tensorflow:Learning rate reduction is conditioned on metric `val_acc` which is not available. Available metrics are: loss,accuracy,val_loss,val_accuracy,lr\n"
          ]
        },
        {
          "metadata": {
            "tags": null
          },
          "name": "stdout",
          "output_type": "stream",
          "text": [
            "29/29 [==============================] - 316s 11s/step - loss: 0.1283 - accuracy: 0.9566 - val_loss: 2.7379 - val_accuracy: 0.4900 - lr: 0.0010\n",
            "Epoch 17/50\n",
            "29/29 [==============================] - ETA: 0s - loss: 0.2237 - accuracy: 0.9277 "
          ]
        },
        {
          "metadata": {
            "tags": null
          },
          "name": "stderr",
          "output_type": "stream",
          "text": [
            "WARNING:tensorflow:Can save best model only with val_acc available, skipping.\n",
            "WARNING:tensorflow:Learning rate reduction is conditioned on metric `val_acc` which is not available. Available metrics are: loss,accuracy,val_loss,val_accuracy,lr\n"
          ]
        },
        {
          "metadata": {
            "tags": null
          },
          "name": "stdout",
          "output_type": "stream",
          "text": [
            "29/29 [==============================] - 313s 11s/step - loss: 0.2237 - accuracy: 0.9277 - val_loss: 1.4506 - val_accuracy: 0.5700 - lr: 0.0010\n",
            "Epoch 18/50\n",
            "29/29 [==============================] - ETA: 0s - loss: 0.2265 - accuracy: 0.9244 "
          ]
        },
        {
          "metadata": {
            "tags": null
          },
          "name": "stderr",
          "output_type": "stream",
          "text": [
            "WARNING:tensorflow:Can save best model only with val_acc available, skipping.\n",
            "WARNING:tensorflow:Learning rate reduction is conditioned on metric `val_acc` which is not available. Available metrics are: loss,accuracy,val_loss,val_accuracy,lr\n"
          ]
        },
        {
          "metadata": {
            "tags": null
          },
          "name": "stdout",
          "output_type": "stream",
          "text": [
            "29/29 [==============================] - 314s 11s/step - loss: 0.2265 - accuracy: 0.9244 - val_loss: 1.6040 - val_accuracy: 0.5100 - lr: 0.0010\n",
            "Epoch 19/50\n",
            "29/29 [==============================] - ETA: 0s - loss: 0.2461 - accuracy: 0.9188 "
          ]
        },
        {
          "metadata": {
            "tags": null
          },
          "name": "stderr",
          "output_type": "stream",
          "text": [
            "WARNING:tensorflow:Can save best model only with val_acc available, skipping.\n",
            "WARNING:tensorflow:Learning rate reduction is conditioned on metric `val_acc` which is not available. Available metrics are: loss,accuracy,val_loss,val_accuracy,lr\n"
          ]
        },
        {
          "metadata": {
            "tags": null
          },
          "name": "stdout",
          "output_type": "stream",
          "text": [
            "29/29 [==============================] - 317s 11s/step - loss: 0.2461 - accuracy: 0.9188 - val_loss: 1.3840 - val_accuracy: 0.5700 - lr: 0.0010\n",
            "Epoch 20/50\n",
            "29/29 [==============================] - ETA: 0s - loss: 0.1099 - accuracy: 0.9644 "
          ]
        },
        {
          "metadata": {
            "tags": null
          },
          "name": "stderr",
          "output_type": "stream",
          "text": [
            "WARNING:tensorflow:Can save best model only with val_acc available, skipping.\n",
            "WARNING:tensorflow:Learning rate reduction is conditioned on metric `val_acc` which is not available. Available metrics are: loss,accuracy,val_loss,val_accuracy,lr\n"
          ]
        },
        {
          "metadata": {
            "tags": null
          },
          "name": "stdout",
          "output_type": "stream",
          "text": [
            "29/29 [==============================] - 310s 11s/step - loss: 0.1099 - accuracy: 0.9644 - val_loss: 1.8990 - val_accuracy: 0.5400 - lr: 0.0010\n",
            "Epoch 21/50\n",
            "29/29 [==============================] - ETA: 0s - loss: 0.0578 - accuracy: 0.9789 "
          ]
        },
        {
          "metadata": {
            "tags": null
          },
          "name": "stderr",
          "output_type": "stream",
          "text": [
            "WARNING:tensorflow:Can save best model only with val_acc available, skipping.\n",
            "WARNING:tensorflow:Learning rate reduction is conditioned on metric `val_acc` which is not available. Available metrics are: loss,accuracy,val_loss,val_accuracy,lr\n"
          ]
        },
        {
          "metadata": {
            "tags": null
          },
          "name": "stdout",
          "output_type": "stream",
          "text": [
            "29/29 [==============================] - 312s 11s/step - loss: 0.0578 - accuracy: 0.9789 - val_loss: 2.3174 - val_accuracy: 0.5700 - lr: 0.0010\n",
            "Epoch 22/50\n",
            "29/29 [==============================] - ETA: 0s - loss: 0.0687 - accuracy: 0.9778 "
          ]
        },
        {
          "metadata": {
            "tags": null
          },
          "name": "stderr",
          "output_type": "stream",
          "text": [
            "WARNING:tensorflow:Can save best model only with val_acc available, skipping.\n",
            "WARNING:tensorflow:Learning rate reduction is conditioned on metric `val_acc` which is not available. Available metrics are: loss,accuracy,val_loss,val_accuracy,lr\n"
          ]
        },
        {
          "metadata": {
            "tags": null
          },
          "name": "stdout",
          "output_type": "stream",
          "text": [
            "29/29 [==============================] - 315s 11s/step - loss: 0.0687 - accuracy: 0.9778 - val_loss: 1.8492 - val_accuracy: 0.5600 - lr: 0.0010\n",
            "Epoch 23/50\n",
            "29/29 [==============================] - ETA: 0s - loss: 0.1518 - accuracy: 0.9511 "
          ]
        },
        {
          "metadata": {
            "tags": null
          },
          "name": "stderr",
          "output_type": "stream",
          "text": [
            "WARNING:tensorflow:Can save best model only with val_acc available, skipping.\n",
            "WARNING:tensorflow:Learning rate reduction is conditioned on metric `val_acc` which is not available. Available metrics are: loss,accuracy,val_loss,val_accuracy,lr\n"
          ]
        },
        {
          "metadata": {
            "tags": null
          },
          "name": "stdout",
          "output_type": "stream",
          "text": [
            "29/29 [==============================] - 316s 11s/step - loss: 0.1518 - accuracy: 0.9511 - val_loss: 5.7417 - val_accuracy: 0.2700 - lr: 0.0010\n",
            "Epoch 24/50\n",
            "29/29 [==============================] - ETA: 0s - loss: 0.1761 - accuracy: 0.9366 "
          ]
        },
        {
          "metadata": {
            "tags": null
          },
          "name": "stderr",
          "output_type": "stream",
          "text": [
            "WARNING:tensorflow:Can save best model only with val_acc available, skipping.\n",
            "WARNING:tensorflow:Learning rate reduction is conditioned on metric `val_acc` which is not available. Available metrics are: loss,accuracy,val_loss,val_accuracy,lr\n"
          ]
        },
        {
          "metadata": {
            "tags": null
          },
          "name": "stdout",
          "output_type": "stream",
          "text": [
            "29/29 [==============================] - 315s 11s/step - loss: 0.1761 - accuracy: 0.9366 - val_loss: 1.8362 - val_accuracy: 0.5000 - lr: 0.0010\n",
            "Epoch 25/50\n",
            "29/29 [==============================] - ETA: 0s - loss: 0.0727 - accuracy: 0.9744 "
          ]
        },
        {
          "metadata": {
            "tags": null
          },
          "name": "stderr",
          "output_type": "stream",
          "text": [
            "WARNING:tensorflow:Can save best model only with val_acc available, skipping.\n",
            "WARNING:tensorflow:Learning rate reduction is conditioned on metric `val_acc` which is not available. Available metrics are: loss,accuracy,val_loss,val_accuracy,lr\n"
          ]
        },
        {
          "metadata": {
            "tags": null
          },
          "name": "stdout",
          "output_type": "stream",
          "text": [
            "29/29 [==============================] - 316s 11s/step - loss: 0.0727 - accuracy: 0.9744 - val_loss: 2.2100 - val_accuracy: 0.5700 - lr: 0.0010\n",
            "Epoch 26/50\n",
            "29/29 [==============================] - ETA: 0s - loss: 0.0675 - accuracy: 0.9778 "
          ]
        },
        {
          "metadata": {
            "tags": null
          },
          "name": "stderr",
          "output_type": "stream",
          "text": [
            "WARNING:tensorflow:Can save best model only with val_acc available, skipping.\n",
            "WARNING:tensorflow:Learning rate reduction is conditioned on metric `val_acc` which is not available. Available metrics are: loss,accuracy,val_loss,val_accuracy,lr\n"
          ]
        },
        {
          "metadata": {
            "tags": null
          },
          "name": "stdout",
          "output_type": "stream",
          "text": [
            "29/29 [==============================] - 316s 11s/step - loss: 0.0675 - accuracy: 0.9778 - val_loss: 2.2332 - val_accuracy: 0.5400 - lr: 0.0010\n",
            "Epoch 27/50\n",
            "29/29 [==============================] - ETA: 0s - loss: 0.0716 - accuracy: 0.9766 "
          ]
        },
        {
          "metadata": {
            "tags": null
          },
          "name": "stderr",
          "output_type": "stream",
          "text": [
            "WARNING:tensorflow:Can save best model only with val_acc available, skipping.\n",
            "WARNING:tensorflow:Learning rate reduction is conditioned on metric `val_acc` which is not available. Available metrics are: loss,accuracy,val_loss,val_accuracy,lr\n"
          ]
        },
        {
          "metadata": {
            "tags": null
          },
          "name": "stdout",
          "output_type": "stream",
          "text": [
            "29/29 [==============================] - 317s 11s/step - loss: 0.0716 - accuracy: 0.9766 - val_loss: 2.6882 - val_accuracy: 0.5300 - lr: 0.0010\n",
            "Epoch 28/50\n",
            "29/29 [==============================] - ETA: 0s - loss: 0.0375 - accuracy: 0.9867 "
          ]
        },
        {
          "metadata": {
            "tags": null
          },
          "name": "stderr",
          "output_type": "stream",
          "text": [
            "WARNING:tensorflow:Can save best model only with val_acc available, skipping.\n",
            "WARNING:tensorflow:Learning rate reduction is conditioned on metric `val_acc` which is not available. Available metrics are: loss,accuracy,val_loss,val_accuracy,lr\n"
          ]
        },
        {
          "metadata": {
            "tags": null
          },
          "name": "stdout",
          "output_type": "stream",
          "text": [
            "29/29 [==============================] - 316s 11s/step - loss: 0.0375 - accuracy: 0.9867 - val_loss: 2.2333 - val_accuracy: 0.5600 - lr: 0.0010\n",
            "Epoch 29/50\n",
            "29/29 [==============================] - ETA: 0s - loss: 0.0426 - accuracy: 0.9878 "
          ]
        },
        {
          "metadata": {
            "tags": null
          },
          "name": "stderr",
          "output_type": "stream",
          "text": [
            "WARNING:tensorflow:Can save best model only with val_acc available, skipping.\n",
            "WARNING:tensorflow:Learning rate reduction is conditioned on metric `val_acc` which is not available. Available metrics are: loss,accuracy,val_loss,val_accuracy,lr\n"
          ]
        },
        {
          "metadata": {
            "tags": null
          },
          "name": "stdout",
          "output_type": "stream",
          "text": [
            "29/29 [==============================] - 313s 11s/step - loss: 0.0426 - accuracy: 0.9878 - val_loss: 3.3571 - val_accuracy: 0.5500 - lr: 0.0010\n",
            "Epoch 30/50\n",
            "29/29 [==============================] - ETA: 0s - loss: 0.1896 - accuracy: 0.9344 "
          ]
        },
        {
          "metadata": {
            "tags": null
          },
          "name": "stderr",
          "output_type": "stream",
          "text": [
            "WARNING:tensorflow:Can save best model only with val_acc available, skipping.\n",
            "WARNING:tensorflow:Learning rate reduction is conditioned on metric `val_acc` which is not available. Available metrics are: loss,accuracy,val_loss,val_accuracy,lr\n"
          ]
        },
        {
          "output_type": "stream",
          "name": "stdout",
          "text": [
            "29/29 [==============================] - 308s 11s/step - loss: 0.1896 - accuracy: 0.9344 - val_loss: 3.1238 - val_accuracy: 0.4500 - lr: 0.0010\n",
            "Epoch 31/50\n",
            "29/29 [==============================] - ETA: 0s - loss: 0.1741 - accuracy: 0.9444 "
          ]
        },
        {
          "output_type": "stream",
          "name": "stderr",
          "text": [
            "WARNING:tensorflow:Can save best model only with val_acc available, skipping.\n",
            "WARNING:tensorflow:Learning rate reduction is conditioned on metric `val_acc` which is not available. Available metrics are: loss,accuracy,val_loss,val_accuracy,lr\n"
          ]
        },
        {
          "output_type": "stream",
          "name": "stdout",
          "text": [
            "\b\b\b\b\b\b\b\b\b\b\b\b\b\b\b\b\b\b\b\b\b\b\b\b\b\b\b\b\b\b\b\b\b\b\b\b\b\b\b\b\b\b\b\b\b\b\b\b\b\b\b\b\b\b\b\b\b\b\b\b\b\b\b\b\b\b\b\b\b\b\b\b\b\b\b\b\b\b\b\b\b\b\r29/29 [==============================] - 317s 11s/step - loss: 0.1741 - accuracy: 0.9444 - val_loss: 41.9687 - val_accuracy: 0.3900 - lr: 0.0010\n",
            "Epoch 32/50\n",
            "29/29 [==============================] - ETA: 0s - loss: 0.2466 - accuracy: 0.9277 "
          ]
        },
        {
          "output_type": "stream",
          "name": "stderr",
          "text": [
            "WARNING:tensorflow:Can save best model only with val_acc available, skipping.\n",
            "WARNING:tensorflow:Learning rate reduction is conditioned on metric `val_acc` which is not available. Available metrics are: loss,accuracy,val_loss,val_accuracy,lr\n"
          ]
        },
        {
          "output_type": "stream",
          "name": "stdout",
          "text": [
            "\b\b\b\b\b\b\b\b\b\b\b\b\b\b\b\b\b\b\b\b\b\b\b\b\b\b\b\b\b\b\b\b\b\b\b\b\b\b\b\b\b\b\b\b\b\b\b\b\b\b\b\b\b\b\b\b\b\b\b\b\b\b\b\b\b\b\b\b\b\b\b\b\b\b\b\b\b\b\b\b\b\b\r29/29 [==============================] - 328s 11s/step - loss: 0.2466 - accuracy: 0.9277 - val_loss: 1.7025 - val_accuracy: 0.5000 - lr: 0.0010\n",
            "Epoch 33/50\n",
            "29/29 [==============================] - ETA: 0s - loss: 0.1323 - accuracy: 0.9588 "
          ]
        },
        {
          "output_type": "stream",
          "name": "stderr",
          "text": [
            "WARNING:tensorflow:Can save best model only with val_acc available, skipping.\n",
            "WARNING:tensorflow:Learning rate reduction is conditioned on metric `val_acc` which is not available. Available metrics are: loss,accuracy,val_loss,val_accuracy,lr\n"
          ]
        },
        {
          "output_type": "stream",
          "name": "stdout",
          "text": [
            "\b\b\b\b\b\b\b\b\b\b\b\b\b\b\b\b\b\b\b\b\b\b\b\b\b\b\b\b\b\b\b\b\b\b\b\b\b\b\b\b\b\b\b\b\b\b\b\b\b\b\b\b\b\b\b\b\b\b\b\b\b\b\b\b\b\b\b\b\b\b\b\b\b\b\b\b\b\b\b\b\b\b\r29/29 [==============================] - 369s 13s/step - loss: 0.1323 - accuracy: 0.9588 - val_loss: 2.2305 - val_accuracy: 0.4500 - lr: 0.0010\n",
            "Epoch 34/50\n",
            "29/29 [==============================] - ETA: 0s - loss: 0.1532 - accuracy: 0.9477 "
          ]
        },
        {
          "output_type": "stream",
          "name": "stderr",
          "text": [
            "WARNING:tensorflow:Can save best model only with val_acc available, skipping.\n",
            "WARNING:tensorflow:Learning rate reduction is conditioned on metric `val_acc` which is not available. Available metrics are: loss,accuracy,val_loss,val_accuracy,lr\n"
          ]
        },
        {
          "output_type": "stream",
          "name": "stdout",
          "text": [
            "\b\b\b\b\b\b\b\b\b\b\b\b\b\b\b\b\b\b\b\b\b\b\b\b\b\b\b\b\b\b\b\b\b\b\b\b\b\b\b\b\b\b\b\b\b\b\b\b\b\b\b\b\b\b\b\b\b\b\b\b\b\b\b\b\b\b\b\b\b\b\b\b\b\b\b\b\b\b\b\b\b\b\r29/29 [==============================] - 317s 11s/step - loss: 0.1532 - accuracy: 0.9477 - val_loss: 1.7664 - val_accuracy: 0.5300 - lr: 0.0010\n",
            "Epoch 35/50\n",
            "29/29 [==============================] - ETA: 0s - loss: 0.0861 - accuracy: 0.9755 "
          ]
        },
        {
          "output_type": "stream",
          "name": "stderr",
          "text": [
            "WARNING:tensorflow:Can save best model only with val_acc available, skipping.\n",
            "WARNING:tensorflow:Learning rate reduction is conditioned on metric `val_acc` which is not available. Available metrics are: loss,accuracy,val_loss,val_accuracy,lr\n"
          ]
        },
        {
          "output_type": "stream",
          "name": "stdout",
          "text": [
            "\b\b\b\b\b\b\b\b\b\b\b\b\b\b\b\b\b\b\b\b\b\b\b\b\b\b\b\b\b\b\b\b\b\b\b\b\b\b\b\b\b\b\b\b\b\b\b\b\b\b\b\b\b\b\b\b\b\b\b\b\b\b\b\b\b\b\b\b\b\b\b\b\b\b\b\b\b\b\b\b\b\b\r29/29 [==============================] - 317s 11s/step - loss: 0.0861 - accuracy: 0.9755 - val_loss: 1.6912 - val_accuracy: 0.5900 - lr: 0.0010\n",
            "Epoch 36/50\n",
            "29/29 [==============================] - ETA: 0s - loss: 0.1070 - accuracy: 0.9633 "
          ]
        },
        {
          "output_type": "stream",
          "name": "stderr",
          "text": [
            "WARNING:tensorflow:Can save best model only with val_acc available, skipping.\n",
            "WARNING:tensorflow:Learning rate reduction is conditioned on metric `val_acc` which is not available. Available metrics are: loss,accuracy,val_loss,val_accuracy,lr\n"
          ]
        },
        {
          "output_type": "stream",
          "name": "stdout",
          "text": [
            "\b\b\b\b\b\b\b\b\b\b\b\b\b\b\b\b\b\b\b\b\b\b\b\b\b\b\b\b\b\b\b\b\b\b\b\b\b\b\b\b\b\b\b\b\b\b\b\b\b\b\b\b\b\b\b\b\b\b\b\b\b\b\b\b\b\b\b\b\b\b\b\b\b\b\b\b\b\b\b\b\b\b\r29/29 [==============================] - 321s 11s/step - loss: 0.1070 - accuracy: 0.9633 - val_loss: 1.6909 - val_accuracy: 0.6000 - lr: 0.0010\n",
            "Epoch 37/50\n",
            "29/29 [==============================] - ETA: 0s - loss: 0.1064 - accuracy: 0.9689 "
          ]
        },
        {
          "output_type": "stream",
          "name": "stderr",
          "text": [
            "WARNING:tensorflow:Can save best model only with val_acc available, skipping.\n",
            "WARNING:tensorflow:Learning rate reduction is conditioned on metric `val_acc` which is not available. Available metrics are: loss,accuracy,val_loss,val_accuracy,lr\n"
          ]
        },
        {
          "output_type": "stream",
          "name": "stdout",
          "text": [
            "\b\b\b\b\b\b\b\b\b\b\b\b\b\b\b\b\b\b\b\b\b\b\b\b\b\b\b\b\b\b\b\b\b\b\b\b\b\b\b\b\b\b\b\b\b\b\b\b\b\b\b\b\b\b\b\b\b\b\b\b\b\b\b\b\b\b\b\b\b\b\b\b\b\b\b\b\b\b\b\b\b\b\r29/29 [==============================] - 321s 11s/step - loss: 0.1064 - accuracy: 0.9689 - val_loss: 1.8280 - val_accuracy: 0.4700 - lr: 0.0010\n",
            "Epoch 38/50\n",
            "29/29 [==============================] - ETA: 0s - loss: 0.0648 - accuracy: 0.9789 "
          ]
        },
        {
          "output_type": "stream",
          "name": "stderr",
          "text": [
            "WARNING:tensorflow:Can save best model only with val_acc available, skipping.\n",
            "WARNING:tensorflow:Learning rate reduction is conditioned on metric `val_acc` which is not available. Available metrics are: loss,accuracy,val_loss,val_accuracy,lr\n"
          ]
        },
        {
          "output_type": "stream",
          "name": "stdout",
          "text": [
            "\b\b\b\b\b\b\b\b\b\b\b\b\b\b\b\b\b\b\b\b\b\b\b\b\b\b\b\b\b\b\b\b\b\b\b\b\b\b\b\b\b\b\b\b\b\b\b\b\b\b\b\b\b\b\b\b\b\b\b\b\b\b\b\b\b\b\b\b\b\b\b\b\b\b\b\b\b\b\b\b\b\b\r29/29 [==============================] - 319s 11s/step - loss: 0.0648 - accuracy: 0.9789 - val_loss: 1.7884 - val_accuracy: 0.5100 - lr: 0.0010\n",
            "Epoch 39/50\n",
            "29/29 [==============================] - ETA: 0s - loss: 0.4132 - accuracy: 0.8910 "
          ]
        },
        {
          "output_type": "stream",
          "name": "stderr",
          "text": [
            "WARNING:tensorflow:Can save best model only with val_acc available, skipping.\n",
            "WARNING:tensorflow:Learning rate reduction is conditioned on metric `val_acc` which is not available. Available metrics are: loss,accuracy,val_loss,val_accuracy,lr\n"
          ]
        },
        {
          "output_type": "stream",
          "name": "stdout",
          "text": [
            "\b\b\b\b\b\b\b\b\b\b\b\b\b\b\b\b\b\b\b\b\b\b\b\b\b\b\b\b\b\b\b\b\b\b\b\b\b\b\b\b\b\b\b\b\b\b\b\b\b\b\b\b\b\b\b\b\b\b\b\b\b\b\b\b\b\b\b\b\b\b\b\b\b\b\b\b\b\b\b\b\b\b\r29/29 [==============================] - 317s 11s/step - loss: 0.4132 - accuracy: 0.8910 - val_loss: 18.3491 - val_accuracy: 0.4400 - lr: 0.0010\n",
            "Epoch 40/50\n",
            "29/29 [==============================] - ETA: 0s - loss: 0.1469 - accuracy: 0.9444 "
          ]
        },
        {
          "output_type": "stream",
          "name": "stderr",
          "text": [
            "WARNING:tensorflow:Can save best model only with val_acc available, skipping.\n",
            "WARNING:tensorflow:Learning rate reduction is conditioned on metric `val_acc` which is not available. Available metrics are: loss,accuracy,val_loss,val_accuracy,lr\n"
          ]
        },
        {
          "output_type": "stream",
          "name": "stdout",
          "text": [
            "\b\b\b\b\b\b\b\b\b\b\b\b\b\b\b\b\b\b\b\b\b\b\b\b\b\b\b\b\b\b\b\b\b\b\b\b\b\b\b\b\b\b\b\b\b\b\b\b\b\b\b\b\b\b\b\b\b\b\b\b\b\b\b\b\b\b\b\b\b\b\b\b\b\b\b\b\b\b\b\b\b\b\r29/29 [==============================] - 313s 11s/step - loss: 0.1469 - accuracy: 0.9444 - val_loss: 1.9643 - val_accuracy: 0.5000 - lr: 0.0010\n",
            "Epoch 41/50\n",
            "29/29 [==============================] - ETA: 0s - loss: 0.0887 - accuracy: 0.9744 "
          ]
        },
        {
          "output_type": "stream",
          "name": "stderr",
          "text": [
            "WARNING:tensorflow:Can save best model only with val_acc available, skipping.\n",
            "WARNING:tensorflow:Learning rate reduction is conditioned on metric `val_acc` which is not available. Available metrics are: loss,accuracy,val_loss,val_accuracy,lr\n"
          ]
        },
        {
          "output_type": "stream",
          "name": "stdout",
          "text": [
            "\b\b\b\b\b\b\b\b\b\b\b\b\b\b\b\b\b\b\b\b\b\b\b\b\b\b\b\b\b\b\b\b\b\b\b\b\b\b\b\b\b\b\b\b\b\b\b\b\b\b\b\b\b\b\b\b\b\b\b\b\b\b\b\b\b\b\b\b\b\b\b\b\b\b\b\b\b\b\b\b\b\b\r29/29 [==============================] - 318s 11s/step - loss: 0.0887 - accuracy: 0.9744 - val_loss: 2.2203 - val_accuracy: 0.3900 - lr: 0.0010\n",
            "Epoch 42/50\n",
            "29/29 [==============================] - ETA: 0s - loss: 0.1878 - accuracy: 0.9399 "
          ]
        },
        {
          "output_type": "stream",
          "name": "stderr",
          "text": [
            "WARNING:tensorflow:Can save best model only with val_acc available, skipping.\n",
            "WARNING:tensorflow:Learning rate reduction is conditioned on metric `val_acc` which is not available. Available metrics are: loss,accuracy,val_loss,val_accuracy,lr\n"
          ]
        },
        {
          "output_type": "stream",
          "name": "stdout",
          "text": [
            "\b\b\b\b\b\b\b\b\b\b\b\b\b\b\b\b\b\b\b\b\b\b\b\b\b\b\b\b\b\b\b\b\b\b\b\b\b\b\b\b\b\b\b\b\b\b\b\b\b\b\b\b\b\b\b\b\b\b\b\b\b\b\b\b\b\b\b\b\b\b\b\b\b\b\b\b\b\b\b\b\b\b\r29/29 [==============================] - 322s 11s/step - loss: 0.1878 - accuracy: 0.9399 - val_loss: 2.4291 - val_accuracy: 0.3700 - lr: 0.0010\n",
            "Epoch 43/50\n",
            "29/29 [==============================] - ETA: 0s - loss: 0.0649 - accuracy: 0.9778 "
          ]
        },
        {
          "output_type": "stream",
          "name": "stderr",
          "text": [
            "WARNING:tensorflow:Can save best model only with val_acc available, skipping.\n",
            "WARNING:tensorflow:Learning rate reduction is conditioned on metric `val_acc` which is not available. Available metrics are: loss,accuracy,val_loss,val_accuracy,lr\n"
          ]
        },
        {
          "output_type": "stream",
          "name": "stdout",
          "text": [
            "\b\b\b\b\b\b\b\b\b\b\b\b\b\b\b\b\b\b\b\b\b\b\b\b\b\b\b\b\b\b\b\b\b\b\b\b\b\b\b\b\b\b\b\b\b\b\b\b\b\b\b\b\b\b\b\b\b\b\b\b\b\b\b\b\b\b\b\b\b\b\b\b\b\b\b\b\b\b\b\b\b\b\r29/29 [==============================] - 315s 11s/step - loss: 0.0649 - accuracy: 0.9778 - val_loss: 2.0499 - val_accuracy: 0.5000 - lr: 0.0010\n",
            "Epoch 44/50\n",
            "29/29 [==============================] - ETA: 0s - loss: 0.2189 - accuracy: 0.9310 "
          ]
        },
        {
          "output_type": "stream",
          "name": "stderr",
          "text": [
            "WARNING:tensorflow:Can save best model only with val_acc available, skipping.\n",
            "WARNING:tensorflow:Learning rate reduction is conditioned on metric `val_acc` which is not available. Available metrics are: loss,accuracy,val_loss,val_accuracy,lr\n"
          ]
        },
        {
          "output_type": "stream",
          "name": "stdout",
          "text": [
            "\b\b\b\b\b\b\b\b\b\b\b\b\b\b\b\b\b\b\b\b\b\b\b\b\b\b\b\b\b\b\b\b\b\b\b\b\b\b\b\b\b\b\b\b\b\b\b\b\b\b\b\b\b\b\b\b\b\b\b\b\b\b\b\b\b\b\b\b\b\b\b\b\b\b\b\b\b\b\b\b\b\b\r29/29 [==============================] - 341s 12s/step - loss: 0.2189 - accuracy: 0.9310 - val_loss: 7.4047 - val_accuracy: 0.5500 - lr: 0.0010\n",
            "Epoch 45/50\n",
            "29/29 [==============================] - ETA: 0s - loss: 0.0816 - accuracy: 0.9755 "
          ]
        },
        {
          "output_type": "stream",
          "name": "stderr",
          "text": [
            "WARNING:tensorflow:Can save best model only with val_acc available, skipping.\n",
            "WARNING:tensorflow:Learning rate reduction is conditioned on metric `val_acc` which is not available. Available metrics are: loss,accuracy,val_loss,val_accuracy,lr\n"
          ]
        },
        {
          "output_type": "stream",
          "name": "stdout",
          "text": [
            "\b\b\b\b\b\b\b\b\b\b\b\b\b\b\b\b\b\b\b\b\b\b\b\b\b\b\b\b\b\b\b\b\b\b\b\b\b\b\b\b\b\b\b\b\b\b\b\b\b\b\b\b\b\b\b\b\b\b\b\b\b\b\b\b\b\b\b\b\b\b\b\b\b\b\b\b\b\b\b\b\b\b\r29/29 [==============================] - 333s 11s/step - loss: 0.0816 - accuracy: 0.9755 - val_loss: 2.3030 - val_accuracy: 0.5600 - lr: 0.0010\n",
            "Epoch 46/50\n",
            "29/29 [==============================] - ETA: 0s - loss: 0.1626 - accuracy: 0.9455 "
          ]
        },
        {
          "output_type": "stream",
          "name": "stderr",
          "text": [
            "WARNING:tensorflow:Can save best model only with val_acc available, skipping.\n",
            "WARNING:tensorflow:Learning rate reduction is conditioned on metric `val_acc` which is not available. Available metrics are: loss,accuracy,val_loss,val_accuracy,lr\n"
          ]
        },
        {
          "output_type": "stream",
          "name": "stdout",
          "text": [
            "\b\b\b\b\b\b\b\b\b\b\b\b\b\b\b\b\b\b\b\b\b\b\b\b\b\b\b\b\b\b\b\b\b\b\b\b\b\b\b\b\b\b\b\b\b\b\b\b\b\b\b\b\b\b\b\b\b\b\b\b\b\b\b\b\b\b\b\b\b\b\b\b\b\b\b\b\b\b\b\b\b\b\r29/29 [==============================] - 356s 12s/step - loss: 0.1626 - accuracy: 0.9455 - val_loss: 2.3367 - val_accuracy: 0.4200 - lr: 0.0010\n",
            "Epoch 47/50\n",
            "29/29 [==============================] - ETA: 0s - loss: 0.1576 - accuracy: 0.9388 "
          ]
        },
        {
          "output_type": "stream",
          "name": "stderr",
          "text": [
            "WARNING:tensorflow:Can save best model only with val_acc available, skipping.\n",
            "WARNING:tensorflow:Learning rate reduction is conditioned on metric `val_acc` which is not available. Available metrics are: loss,accuracy,val_loss,val_accuracy,lr\n"
          ]
        },
        {
          "output_type": "stream",
          "name": "stdout",
          "text": [
            "\b\b\b\b\b\b\b\b\b\b\b\b\b\b\b\b\b\b\b\b\b\b\b\b\b\b\b\b\b\b\b\b\b\b\b\b\b\b\b\b\b\b\b\b\b\b\b\b\b\b\b\b\b\b\b\b\b\b\b\b\b\b\b\b\b\b\b\b\b\b\b\b\b\b\b\b\b\b\b\b\b\b\r29/29 [==============================] - 317s 11s/step - loss: 0.1576 - accuracy: 0.9388 - val_loss: 2.1998 - val_accuracy: 0.5300 - lr: 0.0010\n",
            "Epoch 48/50\n",
            "29/29 [==============================] - ETA: 0s - loss: 0.0590 - accuracy: 0.9800 "
          ]
        },
        {
          "output_type": "stream",
          "name": "stderr",
          "text": [
            "WARNING:tensorflow:Can save best model only with val_acc available, skipping.\n",
            "WARNING:tensorflow:Learning rate reduction is conditioned on metric `val_acc` which is not available. Available metrics are: loss,accuracy,val_loss,val_accuracy,lr\n"
          ]
        },
        {
          "output_type": "stream",
          "name": "stdout",
          "text": [
            "\b\b\b\b\b\b\b\b\b\b\b\b\b\b\b\b\b\b\b\b\b\b\b\b\b\b\b\b\b\b\b\b\b\b\b\b\b\b\b\b\b\b\b\b\b\b\b\b\b\b\b\b\b\b\b\b\b\b\b\b\b\b\b\b\b\b\b\b\b\b\b\b\b\b\b\b\b\b\b\b\b\b\r29/29 [==============================] - 327s 11s/step - loss: 0.0590 - accuracy: 0.9800 - val_loss: 2.3537 - val_accuracy: 0.5500 - lr: 0.0010\n",
            "Epoch 49/50\n",
            "29/29 [==============================] - ETA: 0s - loss: 0.0313 - accuracy: 0.9889 "
          ]
        },
        {
          "output_type": "stream",
          "name": "stderr",
          "text": [
            "WARNING:tensorflow:Can save best model only with val_acc available, skipping.\n",
            "WARNING:tensorflow:Learning rate reduction is conditioned on metric `val_acc` which is not available. Available metrics are: loss,accuracy,val_loss,val_accuracy,lr\n"
          ]
        },
        {
          "output_type": "stream",
          "name": "stdout",
          "text": [
            "\b\b\b\b\b\b\b\b\b\b\b\b\b\b\b\b\b\b\b\b\b\b\b\b\b\b\b\b\b\b\b\b\b\b\b\b\b\b\b\b\b\b\b\b\b\b\b\b\b\b\b\b\b\b\b\b\b\b\b\b\b\b\b\b\b\b\b\b\b\b\b\b\b\b\b\b\b\b\b\b\b\b\r29/29 [==============================] - 318s 11s/step - loss: 0.0313 - accuracy: 0.9889 - val_loss: 3.1083 - val_accuracy: 0.5200 - lr: 0.0010\n",
            "Epoch 50/50\n",
            "29/29 [==============================] - ETA: 0s - loss: 0.0232 - accuracy: 0.9933 "
          ]
        },
        {
          "output_type": "stream",
          "name": "stderr",
          "text": [
            "WARNING:tensorflow:Can save best model only with val_acc available, skipping.\n",
            "WARNING:tensorflow:Learning rate reduction is conditioned on metric `val_acc` which is not available. Available metrics are: loss,accuracy,val_loss,val_accuracy,lr\n"
          ]
        },
        {
          "output_type": "stream",
          "name": "stdout",
          "text": [
            "\b\b\b\b\b\b\b\b\b\b\b\b\b\b\b\b\b\b\b\b\b\b\b\b\b\b\b\b\b\b\b\b\b\b\b\b\b\b\b\b\b\b\b\b\b\b\b\b\b\b\b\b\b\b\b\b\b\b\b\b\b\b\b\b\b\b\b\b\b\b\b\b\b\b\b\b\b\b\b\b\b\b\r29/29 [==============================] - 312s 11s/step - loss: 0.0232 - accuracy: 0.9933 - val_loss: 2.9131 - val_accuracy: 0.5300 - lr: 0.0010\n"
          ]
        }
      ]
    },
    {
      "cell_type": "code",
      "source": [
        "!pip install keras-tuner\n"
      ],
      "metadata": {
        "colab": {
          "base_uri": "https://localhost:8080/"
        },
        "id": "wAdkr6XelHnP",
        "outputId": "8f21b2f9-16b0-4ea2-e8de-446077869c62"
      },
      "execution_count": null,
      "outputs": [
        {
          "output_type": "stream",
          "name": "stdout",
          "text": [
            "Requirement already satisfied: keras-tuner in /usr/local/lib/python3.10/dist-packages (1.4.7)\n",
            "Requirement already satisfied: keras in /usr/local/lib/python3.10/dist-packages (from keras-tuner) (2.15.0)\n",
            "Requirement already satisfied: packaging in /usr/local/lib/python3.10/dist-packages (from keras-tuner) (24.1)\n",
            "Requirement already satisfied: requests in /usr/local/lib/python3.10/dist-packages (from keras-tuner) (2.31.0)\n",
            "Requirement already satisfied: kt-legacy in /usr/local/lib/python3.10/dist-packages (from keras-tuner) (1.0.5)\n",
            "Requirement already satisfied: charset-normalizer<4,>=2 in /usr/local/lib/python3.10/dist-packages (from requests->keras-tuner) (3.3.2)\n",
            "Requirement already satisfied: idna<4,>=2.5 in /usr/local/lib/python3.10/dist-packages (from requests->keras-tuner) (3.7)\n",
            "Requirement already satisfied: urllib3<3,>=1.21.1 in /usr/local/lib/python3.10/dist-packages (from requests->keras-tuner) (2.0.7)\n",
            "Requirement already satisfied: certifi>=2017.4.17 in /usr/local/lib/python3.10/dist-packages (from requests->keras-tuner) (2024.7.4)\n"
          ]
        }
      ]
    },
    {
      "cell_type": "markdown",
      "source": [
        "**code for model to apply hyper parameter tuning**"
      ],
      "metadata": {
        "id": "vAm769V-twvU"
      }
    },
    {
      "cell_type": "code",
      "source": [
        "import keras_tuner as kt\n",
        "import tensorflow as tf\n",
        "\n",
        "def build_model(hp):\n",
        "    model = tf.keras.Sequential()\n",
        "\n",
        "    model.add(tf.keras.layers.Conv2D(\n",
        "        filters=hp.Int('filters', min_value=32, max_value=128, step=16),\n",
        "        kernel_size=hp.Choice('kernel_size', values=[3, 5]),\n",
        "        activation='relu',\n",
        "        input_shape=(150, 150, 3)\n",
        "    ))\n",
        "    model.add(tf.keras.layers.MaxPooling2D(pool_size=(2, 2)))\n",
        "    model.add(tf.keras.layers.Flatten())\n",
        "    model.add(tf.keras.layers.Dense(\n",
        "        units=hp.Int('units', min_value=32, max_value=128, step=16),\n",
        "        activation='relu'\n",
        "    ))\n",
        "    model.add(tf.keras.layers.Dense(3, activation='softmax'))\n",
        "\n",
        "    model.compile(\n",
        "        optimizer=tf.keras.optimizers.Adam(\n",
        "            hp.Choice('learning_rate', values=[1e-2, 1e-3, 1e-4])),\n",
        "        loss='categorical_crossentropy',\n",
        "        metrics=['accuracy']\n",
        "    )\n",
        "\n",
        "    return model\n"
      ],
      "metadata": {
        "id": "hTeEbDJLrfMT"
      },
      "execution_count": null,
      "outputs": []
    },
    {
      "cell_type": "code",
      "source": [
        "tuner = kt.Hyperband(\n",
        "    build_model,\n",
        "    objective='val_accuracy',\n",
        "    max_epochs=10,\n",
        "    factor=3,\n",
        "    directory='/content/drive/My Drive/intro_to_kt',  # Save the tuner results in Google Drive\n",
        "    project_name='hyperband_project'\n",
        ")\n"
      ],
      "metadata": {
        "colab": {
          "base_uri": "https://localhost:8080/"
        },
        "id": "KNPFghb1YMXS",
        "outputId": "00930cb3-4c5c-4710-cfe7-88f29974b4ce"
      },
      "execution_count": null,
      "outputs": [
        {
          "output_type": "stream",
          "name": "stdout",
          "text": [
            "Reloading Tuner from /content/drive/My Drive/intro_to_kt/hyperband_project/tuner0.json\n"
          ]
        }
      ]
    },
    {
      "cell_type": "markdown",
      "source": [],
      "metadata": {
        "id": "XRqj2e8Zt-eM"
      }
    },
    {
      "cell_type": "code",
      "source": [
        "from tensorflow.keras.preprocessing.image import ImageDataGenerator\n",
        "\n",
        "train_datagen = ImageDataGenerator(\n",
        "    rescale=1./255,\n",
        "    shear_range=0.2,\n",
        "    zoom_range=0.2,\n",
        "    horizontal_flip=True\n",
        ")\n",
        "\n",
        "train_generator = train_datagen.flow_from_directory(\n",
        "    '/content/drive/MyDrive/adni_dataset/project_dataset/adni/Alzheimers-ADNI/train',\n",
        "    target_size=(150, 150),\n",
        "    batch_size=32,\n",
        "    class_mode='categorical'\n",
        ")\n"
      ],
      "metadata": {
        "colab": {
          "base_uri": "https://localhost:8080/"
        },
        "id": "L9iB8GRsc4Lc",
        "outputId": "af8a0cab-2ac1-4f92-cbb9-b69fad78bc72"
      },
      "execution_count": null,
      "outputs": [
        {
          "output_type": "stream",
          "name": "stdout",
          "text": [
            "Found 1111 images belonging to 3 classes.\n"
          ]
        }
      ]
    },
    {
      "cell_type": "code",
      "source": [
        "validation_datagen = ImageDataGenerator(rescale=1./255)\n",
        "\n",
        "val_generator = validation_datagen.flow_from_directory(\n",
        "    '/content/drive/MyDrive/adni_dataset/project_dataset/adni/Alzheimers-ADNI/test',\n",
        "    target_size=(150, 150),\n",
        "    batch_size=32,\n",
        "    class_mode='categorical'\n",
        ")\n"
      ],
      "metadata": {
        "colab": {
          "base_uri": "https://localhost:8080/"
        },
        "id": "cShzgtgldIvK",
        "outputId": "b2017b65-53be-4b46-957f-365adf2e64e2"
      },
      "execution_count": null,
      "outputs": [
        {
          "output_type": "stream",
          "name": "stdout",
          "text": [
            "Found 195 images belonging to 3 classes.\n"
          ]
        }
      ]
    },
    {
      "cell_type": "code",
      "source": [
        "tensorboard_callback = tf.keras.callbacks.TensorBoard(log_dir=\"/content/drive/My Drive/logs\")\n",
        "\n",
        "\n",
        "tuner.search(\n",
        "    train_generator,\n",
        "    validation_data=val_generator,\n",
        "    epochs=5,\n",
        "    callbacks=[tensorboard_callback]\n",
        ")\n",
        "\n",
        "\n",
        "best_model = tuner.get_best_models(num_models=1)[0]\n"
      ],
      "metadata": {
        "colab": {
          "base_uri": "https://localhost:8080/"
        },
        "id": "PDOXn0WLcmiT",
        "outputId": "fd838016-d82f-44e7-e8b9-14ca6032be5b"
      },
      "execution_count": null,
      "outputs": [
        {
          "output_type": "stream",
          "name": "stderr",
          "text": [
            "WARNING:tensorflow:Detecting that an object or model or tf.train.Checkpoint is being deleted with unrestored values. See the following logs for the specific values in question. To silence these warnings, use `status.expect_partial()`. See https://www.tensorflow.org/api_docs/python/tf/train/Checkpoint#restorefor details about the status object returned by the restore function.\n",
            "WARNING:tensorflow:Value in checkpoint could not be found in the restored object: (root).optimizer._variables.1\n",
            "WARNING:tensorflow:Value in checkpoint could not be found in the restored object: (root).optimizer._variables.2\n",
            "WARNING:tensorflow:Value in checkpoint could not be found in the restored object: (root).optimizer._variables.3\n",
            "WARNING:tensorflow:Value in checkpoint could not be found in the restored object: (root).optimizer._variables.4\n",
            "WARNING:tensorflow:Value in checkpoint could not be found in the restored object: (root).optimizer._variables.5\n",
            "WARNING:tensorflow:Value in checkpoint could not be found in the restored object: (root).optimizer._variables.6\n",
            "WARNING:tensorflow:Value in checkpoint could not be found in the restored object: (root).optimizer._variables.7\n",
            "WARNING:tensorflow:Value in checkpoint could not be found in the restored object: (root).optimizer._variables.8\n",
            "WARNING:tensorflow:Value in checkpoint could not be found in the restored object: (root).optimizer._variables.9\n",
            "WARNING:tensorflow:Value in checkpoint could not be found in the restored object: (root).optimizer._variables.10\n",
            "WARNING:tensorflow:Value in checkpoint could not be found in the restored object: (root).optimizer._variables.11\n",
            "WARNING:tensorflow:Value in checkpoint could not be found in the restored object: (root).optimizer._variables.12\n"
          ]
        }
      ]
    },
    {
      "cell_type": "code",
      "source": [
        "tuner.search(train_images, train_labels, epochs=10)\n",
        "\n",
        "\n"
      ],
      "metadata": {
        "id": "12cGAtOkvBII"
      },
      "execution_count": null,
      "outputs": []
    },
    {
      "cell_type": "code",
      "source": [
        "from tensorflow.keras.preprocessing.image import ImageDataGenerator\n",
        "\n",
        "from sklearn.model_selection import train_test_split\n",
        "\n",
        "\n",
        "train_images, val_images, train_labels, val_labels = train_test_split(\n",
        "    train_images, train_labels, test_size=0.2, random_state=42)\n",
        "\n",
        "datagen = ImageDataGenerator(\n",
        "    rotation_range=40,\n",
        "    width_shift_range=0.2,\n",
        "    height_shift_range=0.2,\n",
        "    shear_range=0.2,\n",
        "    zoom_range=0.2,\n",
        "    horizontal_flip=True,\n",
        "    fill_mode='nearest'\n",
        ")\n",
        "\n",
        "train_generator = datagen.flow(train_images, train_labels, batch_size=32)\n",
        "\n",
        "\n",
        "val_datagen = ImageDataGenerator(rescale=1./255)\n",
        "val_generator = val_datagen.flow(val_images, val_labels, batch_size=32)\n"
      ],
      "metadata": {
        "id": "LlcWEmvxrk3n"
      },
      "execution_count": null,
      "outputs": []
    },
    {
      "cell_type": "code",
      "source": [
        "import keras_tuner as kt\n",
        "from tensorflow.keras.callbacks import TensorBoard\n",
        "\n",
        "# Define your model as a HyperModel\n",
        "def build_model(hp):\n",
        "    model = tf.keras.Sequential()\n",
        "    model.add(tf.keras.layers.Conv2D(\n",
        "        filters=hp.Int('filters', min_value=32, max_value=128, step=16),\n",
        "        kernel_size=hp.Choice('kernel_size', values=[3, 5]),\n",
        "        activation='relu',\n",
        "        input_shape=(28, 28, 1)\n",
        "    ))\n",
        "    model.add(tf.keras.layers.MaxPooling2D(pool_size=(2, 2)))\n",
        "    model.add(tf.keras.layers.Flatten())\n",
        "    model.add(tf.keras.layers.Dense(\n",
        "        units=hp.Int('units', min_value=32, max_value=128, step=16),\n",
        "        activation='relu'\n",
        "    ))\n",
        "    model.add(tf.keras.layers.Dense(10, activation='softmax'))\n",
        "    model.compile(\n",
        "        optimizer='adam',\n",
        "        loss='sparse_categorical_crossentropy',\n",
        "        metrics=['accuracy']\n",
        "    )\n",
        "    return model\n"
      ],
      "metadata": {
        "id": "jN9ddKQ6sUPS"
      },
      "execution_count": null,
      "outputs": []
    },
    {
      "cell_type": "markdown",
      "source": [
        "**Prediction of images **"
      ],
      "metadata": {
        "id": "zdzfSds1uIBk"
      }
    },
    {
      "cell_type": "code",
      "source": [
        "def predict_image(Imagename):\n",
        "    print(\"started\")\n",
        "\n",
        "    #for name, fileinfo in upload.value.items():\n",
        "    image = Image.open(Imagename)\n",
        "\n",
        "\n",
        "    image = cv2.cvtColor(np.array(image), cv2.COLOR_RGB2BGR)\n",
        "    image = cv2.resize(image, (image_size, image_size))\n",
        "    image = image.reshape(1, image_size, image_size, 3)\n",
        "    prediction = model.predict(image)\n",
        "    prediction = np.argmax(prediction, axis=1)[0]\n",
        "\n",
        "    if prediction == 0:\n",
        "        prediction = \"Final AD JPEG\"\n",
        "    elif prediction == 1:\n",
        "        prediction = \"Final CN JPEG\"\n",
        "    elif prediction == 2 :\n",
        "        prediction = \"Final MCI JPEG\"\n",
        "    print(f\"Model predicts that it is a {prediction}\")"
      ],
      "metadata": {
        "id": "sORkIv919iU7"
      },
      "execution_count": null,
      "outputs": []
    },
    {
      "cell_type": "code",
      "source": [
        "predictions = model.predict(test_images)\n",
        "predictions = np.argmax(predictions, axis=1)\n",
        "actual_labels = np.argmax(test_labels, axis=1)"
      ],
      "metadata": {
        "colab": {
          "base_uri": "https://localhost:8080/"
        },
        "id": "zsrcvPdfyb4g",
        "outputId": "3cf975b5-ac43-4ae5-952c-16e407e0c633"
      },
      "execution_count": null,
      "outputs": [
        {
          "output_type": "stream",
          "name": "stdout",
          "text": [
            "3/3 [==============================] - 12s 2s/step\n"
          ]
        }
      ]
    },
    {
      "cell_type": "code",
      "source": [
        "predict_image('/content/drive/MyDrive/adni_dataset/project_dataset/adni/Alzheimers-ADNI/test/Final AD JPEG/ADNI_002_S_4521_MR_Axial_T2-Star__br_raw_20160324122521837_22_S402609_I662501.jpg')\n",
        "predict_image('/content/drive/MyDrive/adni_dataset/project_dataset/adni/Alzheimers-ADNI/test/Final CN JPEG/ADNI_002_S_6007_MR_Axial_T2_STAR__br_raw_20180423110908167_22_S679010_I988541.jpg')\n",
        "predict_image('/content/drive/MyDrive/adni_dataset/project_dataset/adni/Alzheimers-ADNI/train/Final MCI JPEG/ADNI_002_S_1155_MR_Axial_T2-Star__br_raw_20150106121009713_22_S244439_I467647.jpg')\n",
        "predict_image('/content/drive/MyDrive/adni_dataset/project_dataset/adni/Alzheimers-ADNI/test/Final AD JPEG/ADNI_002_S_4521_MR_Axial_T2-Star__br_raw_20160324122521837_22_S402609_I662501.jpg')\n",
        "predict_image('/content/drive/MyDrive/adni_dataset/project_dataset/adni/Alzheimers-ADNI/test/Final CN JPEG/ADNI_002_S_6007_MR_Axial_T2_STAR__br_raw_20180423110908167_22_S679010_I988541.jpg')\n",
        "predict_image('/content/drive/MyDrive/adni_dataset/project_dataset/adni/Alzheimers-ADNI/test/Final CN JPEG/ADNI_002_S_6007_MR_Axial_T2_STAR__br_raw_20180423110908167_22_S679010_I988541.jpg')"
      ],
      "metadata": {
        "colab": {
          "base_uri": "https://localhost:8080/"
        },
        "id": "Qo4P_Aoy9n4f",
        "outputId": "bb60f5d9-9a96-4eea-d3c5-ad3a91ca3850"
      },
      "execution_count": null,
      "outputs": [
        {
          "output_type": "stream",
          "name": "stdout",
          "text": [
            "started\n",
            "1/1 [==============================] - 0s 147ms/step\n",
            "Model predicts that it is a Final AD JPEG\n",
            "started\n",
            "1/1 [==============================] - 0s 135ms/step\n",
            "Model predicts that it is a Final CN JPEG\n",
            "started\n",
            "1/1 [==============================] - 0s 133ms/step\n",
            "Model predicts that it is a Final MCI JPEG\n",
            "started\n",
            "1/1 [==============================] - 0s 154ms/step\n",
            "Model predicts that it is a Final AD JPEG\n",
            "started\n",
            "1/1 [==============================] - 0s 163ms/step\n",
            "Model predicts that it is a Final CN JPEG\n",
            "started\n",
            "1/1 [==============================] - 0s 141ms/step\n",
            "Model predicts that it is a Final MCI JPEG\n",
            "started\n",
            "1/1 [==============================] - 0s 135ms/step\n",
            "Model predicts that it is a Final CN JPEG\n"
          ]
        }
      ]
    }
  ]
}